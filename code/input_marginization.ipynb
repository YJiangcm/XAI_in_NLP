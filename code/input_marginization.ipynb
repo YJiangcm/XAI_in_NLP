{
 "cells": [
  {
   "cell_type": "code",
   "execution_count": null,
   "metadata": {
    "colab": {
     "base_uri": "https://localhost:8080/"
    },
    "executionInfo": {
     "elapsed": 7757,
     "status": "ok",
     "timestamp": 1618281570965,
     "user": {
      "displayName": "Yuxin JIANG",
      "photoUrl": "",
      "userId": "08237551511886881536"
     },
     "user_tz": -480
    },
    "id": "g2V7q71P_zDO",
    "outputId": "b8eaadb1-36e2-444d-de29-17994f4ea817"
   },
   "outputs": [
    {
     "name": "stdout",
     "output_type": "stream",
     "text": [
      "Collecting transformers\n",
      "\u001b[?25l  Downloading https://files.pythonhosted.org/packages/81/91/61d69d58a1af1bd81d9ca9d62c90a6de3ab80d77f27c5df65d9a2c1f5626/transformers-4.5.0-py3-none-any.whl (2.1MB)\n",
      "\u001b[K     |████████████████████████████████| 2.2MB 18.2MB/s \n",
      "\u001b[?25hRequirement already satisfied: numpy>=1.17 in /usr/local/lib/python3.7/dist-packages (from transformers) (1.19.5)\n",
      "Requirement already satisfied: tqdm>=4.27 in /usr/local/lib/python3.7/dist-packages (from transformers) (4.41.1)\n",
      "Collecting sacremoses\n",
      "\u001b[?25l  Downloading https://files.pythonhosted.org/packages/08/cd/342e584ee544d044fb573ae697404ce22ede086c9e87ce5960772084cad0/sacremoses-0.0.44.tar.gz (862kB)\n",
      "\u001b[K     |████████████████████████████████| 870kB 48.4MB/s \n",
      "\u001b[?25hRequirement already satisfied: filelock in /usr/local/lib/python3.7/dist-packages (from transformers) (3.0.12)\n",
      "Collecting tokenizers<0.11,>=0.10.1\n",
      "\u001b[?25l  Downloading https://files.pythonhosted.org/packages/ae/04/5b870f26a858552025a62f1649c20d29d2672c02ff3c3fb4c688ca46467a/tokenizers-0.10.2-cp37-cp37m-manylinux2010_x86_64.whl (3.3MB)\n",
      "\u001b[K     |████████████████████████████████| 3.3MB 54.4MB/s \n",
      "\u001b[?25hRequirement already satisfied: packaging in /usr/local/lib/python3.7/dist-packages (from transformers) (20.9)\n",
      "Requirement already satisfied: importlib-metadata; python_version < \"3.8\" in /usr/local/lib/python3.7/dist-packages (from transformers) (3.8.1)\n",
      "Requirement already satisfied: requests in /usr/local/lib/python3.7/dist-packages (from transformers) (2.23.0)\n",
      "Requirement already satisfied: regex!=2019.12.17 in /usr/local/lib/python3.7/dist-packages (from transformers) (2019.12.20)\n",
      "Requirement already satisfied: six in /usr/local/lib/python3.7/dist-packages (from sacremoses->transformers) (1.15.0)\n",
      "Requirement already satisfied: click in /usr/local/lib/python3.7/dist-packages (from sacremoses->transformers) (7.1.2)\n",
      "Requirement already satisfied: joblib in /usr/local/lib/python3.7/dist-packages (from sacremoses->transformers) (1.0.1)\n",
      "Requirement already satisfied: pyparsing>=2.0.2 in /usr/local/lib/python3.7/dist-packages (from packaging->transformers) (2.4.7)\n",
      "Requirement already satisfied: zipp>=0.5 in /usr/local/lib/python3.7/dist-packages (from importlib-metadata; python_version < \"3.8\"->transformers) (3.4.1)\n",
      "Requirement already satisfied: typing-extensions>=3.6.4; python_version < \"3.8\" in /usr/local/lib/python3.7/dist-packages (from importlib-metadata; python_version < \"3.8\"->transformers) (3.7.4.3)\n",
      "Requirement already satisfied: idna<3,>=2.5 in /usr/local/lib/python3.7/dist-packages (from requests->transformers) (2.10)\n",
      "Requirement already satisfied: chardet<4,>=3.0.2 in /usr/local/lib/python3.7/dist-packages (from requests->transformers) (3.0.4)\n",
      "Requirement already satisfied: urllib3!=1.25.0,!=1.25.1,<1.26,>=1.21.1 in /usr/local/lib/python3.7/dist-packages (from requests->transformers) (1.24.3)\n",
      "Requirement already satisfied: certifi>=2017.4.17 in /usr/local/lib/python3.7/dist-packages (from requests->transformers) (2020.12.5)\n",
      "Building wheels for collected packages: sacremoses\n",
      "  Building wheel for sacremoses (setup.py) ... \u001b[?25l\u001b[?25hdone\n",
      "  Created wheel for sacremoses: filename=sacremoses-0.0.44-cp37-none-any.whl size=886084 sha256=07373641e8f20c94caee88dcab40aaa79e73d5d4aac4612e069cc866f5b8b89f\n",
      "  Stored in directory: /root/.cache/pip/wheels/3e/fb/c0/13ab4d63d537658f448366744654323077c4d90069b6512f3c\n",
      "Successfully built sacremoses\n",
      "Installing collected packages: sacremoses, tokenizers, transformers\n",
      "Successfully installed sacremoses-0.0.44 tokenizers-0.10.2 transformers-4.5.0\n"
     ]
    }
   ],
   "source": [
    "! pip3 install transformers"
   ]
  },
  {
   "cell_type": "code",
   "execution_count": null,
   "metadata": {
    "id": "HURXea_BDOgw"
   },
   "outputs": [],
   "source": [
    "import numpy as np\n",
    "import logging\n",
    "import torch\n",
    "import torch.nn as nn\n",
    "import torch.nn.functional as F\n",
    "import matplotlib\n",
    "%matplotlib inline\n",
    "import matplotlib.pyplot as plt\n",
    "from tqdm import tqdm\n",
    "from torch.utils.data import TensorDataset\n",
    "from transformers import AutoModelForSequenceClassification, AutoTokenizer, AutoModelForMaskedLM"
   ]
  },
  {
   "cell_type": "code",
   "execution_count": null,
   "metadata": {
    "colab": {
     "base_uri": "https://localhost:8080/",
     "height": 343,
     "referenced_widgets": [
      "c560f008363d4424b03f3daeb49c25c9",
      "b9b2e037b3914b28aba39d8ef142b911",
      "847142714f494c4f9b2ae628bf5ac662",
      "675cff5a6a91458f91dda7c0b44a5320",
      "aa56dd75ea7444f3affef535c0b5eee7",
      "e389fc35a84e4f15bbc1ed2361edd5b4",
      "d201d72cd7ab4ea5bb1a377938aa98a6",
      "d4ef24f916654c2d964c22e1ebba768f",
      "4314c57b9bc6413782be727a2a080fe1",
      "23705e9f82ee4a7f9babd726f6738a04",
      "6f86f41d575b4f4cadd2ba24314f37eb",
      "bc08fb3d23e7441aaa2130012102ec55",
      "8420947dff0f4279b949d890d5164d93",
      "12b3a171fcd440ce82b5846151a38bd2",
      "e03b81a500104c55a1d3dc8188bc15a1",
      "4ca2d973d77d422ebf1bf9e1c4ec1f6c",
      "16d025dde17b4f1494cd3a1f8324921d",
      "502e7de0f5d34f489042e6ceb2224ac0",
      "0dee19eeb9d8435e97cfa98e40610ba6",
      "a168456c7ac64032aa23eed4418695b2",
      "e6954fc13923408a8f2a729d7e820416",
      "7d1172e21758490d917f87bc08476342",
      "76a0354d4f3343b19f553b012635d62d",
      "f1a9ab9315554fe18e8a1aacb6f2aa07",
      "4e479a6d2a60448fa0744aa4684751d7",
      "5eb4f9d87a82487f8a7703012964ca15",
      "a5ad18892b1c4e8a8442f0293552899e",
      "8748e7a7236a48d7a122aa34891b2f2f",
      "1b68caed48cd4ee7aa135dd3ee100e51",
      "e34ccdc7ab4d4749b49887a997702cc2",
      "68002045bd124de0948e860348e93c4d",
      "5b6a9f9d1fd146d693028ac8ccbdef9a",
      "a24591676ac4423394f43878fb6e8653",
      "da0be7c30a3149cc90dac9cc6481186d",
      "6fa77b5317c04245b8bae02202769c33",
      "0e0cde41cd2d40d799c1979c9a4ac4b7",
      "2da3505b07f14839839fe50ea84b1810",
      "9a45d36361a0487ab4d8f2288f8dc985",
      "58210ad7960345b6a7ff43b438ebfd1d",
      "d370821b4dca4922aa9141dbdea234bd"
     ]
    },
    "executionInfo": {
     "elapsed": 15773,
     "status": "ok",
     "timestamp": 1618281589525,
     "user": {
      "displayName": "Yuxin JIANG",
      "photoUrl": "",
      "userId": "08237551511886881536"
     },
     "user_tz": -480
    },
    "id": "juYur7CO5gBj",
    "outputId": "67e3f21f-b861-431d-a95b-ed71234dadcb"
   },
   "outputs": [
    {
     "data": {
      "application/vnd.jupyter.widget-view+json": {
       "model_id": "c560f008363d4424b03f3daeb49c25c9",
       "version_major": 2,
       "version_minor": 0
      },
      "text/plain": [
       "HBox(children=(FloatProgress(value=0.0, description='Downloading', max=433.0, style=ProgressStyle(description_…"
      ]
     },
     "metadata": {
      "tags": []
     },
     "output_type": "display_data"
    },
    {
     "name": "stdout",
     "output_type": "stream",
     "text": [
      "\n"
     ]
    },
    {
     "data": {
      "application/vnd.jupyter.widget-view+json": {
       "model_id": "4314c57b9bc6413782be727a2a080fe1",
       "version_major": 2,
       "version_minor": 0
      },
      "text/plain": [
       "HBox(children=(FloatProgress(value=0.0, description='Downloading', max=440473133.0, style=ProgressStyle(descri…"
      ]
     },
     "metadata": {
      "tags": []
     },
     "output_type": "display_data"
    },
    {
     "name": "stdout",
     "output_type": "stream",
     "text": [
      "\n"
     ]
    },
    {
     "name": "stderr",
     "output_type": "stream",
     "text": [
      "Some weights of the model checkpoint at bert-base-uncased were not used when initializing BertForMaskedLM: ['cls.seq_relationship.weight', 'cls.seq_relationship.bias']\n",
      "- This IS expected if you are initializing BertForMaskedLM from the checkpoint of a model trained on another task or with another architecture (e.g. initializing a BertForSequenceClassification model from a BertForPreTraining model).\n",
      "- This IS NOT expected if you are initializing BertForMaskedLM from the checkpoint of a model that you expect to be exactly identical (initializing a BertForSequenceClassification model from a BertForSequenceClassification model).\n"
     ]
    },
    {
     "data": {
      "application/vnd.jupyter.widget-view+json": {
       "model_id": "16d025dde17b4f1494cd3a1f8324921d",
       "version_major": 2,
       "version_minor": 0
      },
      "text/plain": [
       "HBox(children=(FloatProgress(value=0.0, description='Downloading', max=231508.0, style=ProgressStyle(descripti…"
      ]
     },
     "metadata": {
      "tags": []
     },
     "output_type": "display_data"
    },
    {
     "name": "stdout",
     "output_type": "stream",
     "text": [
      "\n"
     ]
    },
    {
     "data": {
      "application/vnd.jupyter.widget-view+json": {
       "model_id": "4e479a6d2a60448fa0744aa4684751d7",
       "version_major": 2,
       "version_minor": 0
      },
      "text/plain": [
       "HBox(children=(FloatProgress(value=0.0, description='Downloading', max=466062.0, style=ProgressStyle(descripti…"
      ]
     },
     "metadata": {
      "tags": []
     },
     "output_type": "display_data"
    },
    {
     "name": "stdout",
     "output_type": "stream",
     "text": [
      "\n"
     ]
    },
    {
     "data": {
      "application/vnd.jupyter.widget-view+json": {
       "model_id": "a24591676ac4423394f43878fb6e8653",
       "version_major": 2,
       "version_minor": 0
      },
      "text/plain": [
       "HBox(children=(FloatProgress(value=0.0, description='Downloading', max=28.0, style=ProgressStyle(description_w…"
      ]
     },
     "metadata": {
      "tags": []
     },
     "output_type": "display_data"
    },
    {
     "name": "stdout",
     "output_type": "stream",
     "text": [
      "\n"
     ]
    }
   ],
   "source": [
    "MaskedLM_model = AutoModelForMaskedLM.from_pretrained('bert-base-uncased')\n",
    "tokenizer = AutoTokenizer.from_pretrained('bert-base-uncased')"
   ]
  },
  {
   "cell_type": "code",
   "execution_count": null,
   "metadata": {
    "id": "fGRJ-TtbaMcn"
   },
   "outputs": [],
   "source": [
    "def create_margins(tokenizer, model, sentence_a, sentence_b=None, sigma=1e-5, device='cuda'):\n",
    "  model.to(device)\n",
    "  if sentence_b:\n",
    "    input_ids = tokenizer(sentence_a, sentence_b, return_tensors=\"pt\")['input_ids']\n",
    "    token_type_ids = tokenizer(sentence_a, sentence_b, return_tensors=\"pt\")['token_type_ids']\n",
    "  else:\n",
    "    input_ids = tokenizer(sentence_a, return_tensors=\"pt\")['input_ids']\n",
    "    token_type_ids = tokenizer(sentence_a, return_tensors=\"pt\")['token_type_ids']\n",
    "\n",
    "  mask_id = tokenizer.convert_tokens_to_ids('[MASK]')\n",
    "  input_batch = input_ids.clone()\n",
    "  probs = [1]\n",
    "  bins = [1]\n",
    "\n",
    "  for i in range(1, input_ids.shape[1] - 1):\n",
    "    prob = []\n",
    "    masked_input = input_ids.clone().to(device)\n",
    "    masked_input[0][i] = mask_id\n",
    "  \n",
    "    model.eval()\n",
    "    with torch.no_grad():\n",
    "      tokens_score = model(masked_input)[0][0][i]\n",
    "    tokens_score = F.softmax(tokens_score, dim=-1)\n",
    "    \n",
    "    ############# modified method ################\n",
    "    # delete_token_id = input_ids[0][i].item()\n",
    "    # tokens_score = tokens_score / (tokens_score.sum() - tokens_score[delete_token_id])\n",
    "    # print(tokens_score.sum())\n",
    "\n",
    "    # for j in range(len(tokens_score)):\n",
    "    #   if j != delete_token_id and tokens_score[j] > sigma:\n",
    "    #     prob.append(tokens_score[j].item())\n",
    "    #     input_batch = torch.cat((input_batch, input_ids), 0)\n",
    "    #     input_batch[-1][i] = j\n",
    "\n",
    "    ############# original method ################\n",
    "    print(tokens_score.sum())\n",
    "    for j in range(len(tokens_score)):\n",
    "      if tokens_score[j] > sigma:\n",
    "        prob.append(tokens_score[j].item())\n",
    "        input_batch = torch.cat((input_batch, input_ids), 0)\n",
    "        input_batch[-1][i] = j\n",
    "    \n",
    "    prob = prob / np.sum(prob)\n",
    "    probs.extend(prob)\n",
    "    bins.append(bins[-1] + len(prob))\n",
    "\n",
    "  return input_batch, token_type_ids, probs, bins"
   ]
  },
  {
   "cell_type": "code",
   "execution_count": null,
   "metadata": {
    "id": "H1TaG40FlYcA"
   },
   "outputs": [],
   "source": [
    "def compute_woe(input_batch, token_type_ids, probs, bins, model, batch_size, label_a, label_b, device=\"cuda\"):\n",
    "    \"\"\" test the model \"\"\"\n",
    "    token_type_ids = torch.repeat_interleave(token_type_ids, repeats=input_batch.shape[0], dim=0)\n",
    "    dataset = TensorDataset(input_batch, token_type_ids)\n",
    "    dataloader = torch.utils.data.DataLoader(dataset, shuffle=False, batch_size=batch_size)\n",
    "    model.to(device)\n",
    "    \n",
    "    # Test!\n",
    "    logger.info(\"***** Running test *****\")\n",
    "    logger.info(\"  Num examples = %d\", len(dataset))\n",
    "    logger.info(\"  Batch size = %d\", batch_size)\n",
    "\n",
    "    log_probabilities = []\n",
    "\n",
    "    for batch in tqdm(dataloader, desc=\"Testing\"):\n",
    "        model.eval()\n",
    "        batch = tuple(t.to(device) for t in batch)\n",
    "        with torch.no_grad():\n",
    "            logits = model(\n",
    "                                    input_ids = batch[0], \n",
    "                                    token_type_ids = batch[1],\n",
    "                                )[0]\n",
    "        logsoftmax = nn.LogSoftmax(dim=1)\n",
    "        log_probability = logsoftmax(logits).detach().cpu().numpy()\n",
    "        log_probabilities.extend(log_probability)\n",
    "\n",
    "    log_probabilities = np.array(log_probabilities)\n",
    "    log_odds = log_probabilities[:, label_a] - log_probabilities[:, label_b]\n",
    "    prediction = np.argmax(log_probabilities[0])\n",
    "\n",
    "    probs = [probs[0]] + [-probs[i] for i in range(1, len(probs))]\n",
    "    woe = log_odds * probs\n",
    "\n",
    "    WoE = []\n",
    "    for idx in range(len(bins) - 1):\n",
    "      WoE.append(woe[0] + np.sum(woe[bins[idx]: bins[idx + 1]]))\n",
    "    \n",
    "    print(\"the prediction is: \", prediction)\n",
    "    return WoE"
   ]
  },
  {
   "cell_type": "code",
   "execution_count": null,
   "metadata": {
    "id": "6yTeFZg8OGWg"
   },
   "outputs": [],
   "source": [
    "def compute_woe1(input_batch, token_type_ids, probs, bins, model, batch_size, label, device=\"cuda\"):\n",
    "    \"\"\" test the model \"\"\"\n",
    "    token_type_ids = torch.repeat_interleave(token_type_ids, repeats=input_batch.shape[0], dim=0)\n",
    "    dataset = TensorDataset(input_batch, token_type_ids)\n",
    "    dataloader = torch.utils.data.DataLoader(dataset, shuffle=False, batch_size=batch_size)\n",
    "    model.to(device)\n",
    "    \n",
    "    # Test!\n",
    "    logger.info(\"***** Running test *****\")\n",
    "    logger.info(\"  Num examples = %d\", len(dataset))\n",
    "    logger.info(\"  Batch size = %d\", batch_size)\n",
    "\n",
    "    probabilities = []\n",
    "\n",
    "    for batch in tqdm(dataloader, desc=\"Testing\"):\n",
    "        model.eval()\n",
    "        batch = tuple(t.to(device) for t in batch)\n",
    "        with torch.no_grad():\n",
    "            logits = model(\n",
    "                                    input_ids = batch[0], \n",
    "                                    token_type_ids = batch[1],\n",
    "                                )[0]\n",
    "        softmax = nn.Softmax(dim=1)\n",
    "        probability = softmax(logits).detach().cpu().numpy()\n",
    "        probabilities.extend(probability)\n",
    "\n",
    "    probabilities = np.array(probabilities)\n",
    "    log_odds = np.log(probabilities[:, label]) - np.log((1-probabilities[:, label]))\n",
    "    prediction = np.argmax(probabilities[0])\n",
    "\n",
    "    probs = [probs[0]] + [-probs[i] for i in range(1, len(probs))]\n",
    "    woe = log_odds * probs\n",
    "\n",
    "    WoE = []\n",
    "    for idx in range(len(bins) - 1):\n",
    "      WoE.append(woe[0] + np.sum(woe[bins[idx]: bins[idx + 1]]))\n",
    "    \n",
    "    print(\"the prediction is: \", prediction)\n",
    "    return WoE"
   ]
  },
  {
   "cell_type": "code",
   "execution_count": null,
   "metadata": {
    "id": "A5pjdZoU52ed"
   },
   "outputs": [],
   "source": [
    "logger = logging.getLogger(__name__)\n",
    "logging.basicConfig(\n",
    "        format=\"%(asctime)s - %(levelname)s - %(name)s - %(message)s\",\n",
    "        datefmt=\"%m/%d/%Y %H:%M:%S\",\n",
    "        level=logging.INFO,\n",
    "    )"
   ]
  },
  {
   "cell_type": "code",
   "execution_count": null,
   "metadata": {
    "id": "TGnXR4bC5qOS"
   },
   "outputs": [],
   "source": [
    "# sentence = 'suffers from the lack of a compelling or comprehensible narrative.'\n",
    "# sentence = 'the best film about baseball to hit theaters since field of dreams .'\n",
    "# sentence = \"if steven soderbergh ' s ` solaris ' is a failure it is a glorious failure .\"\n",
    "\n",
    "sentence_a = 'a big brown dog swims towards the camera .'\n",
    "sentence_b = 'a dog swims towards the camera .'"
   ]
  },
  {
   "cell_type": "code",
   "execution_count": null,
   "metadata": {
    "colab": {
     "base_uri": "https://localhost:8080/"
    },
    "executionInfo": {
     "elapsed": 18053,
     "status": "ok",
     "timestamp": 1618283016314,
     "user": {
      "displayName": "Yuxin JIANG",
      "photoUrl": "",
      "userId": "08237551511886881536"
     },
     "user_tz": -480
    },
    "id": "fOFFxq6Y-KTX",
    "outputId": "568a22b5-a23a-4a35-9e6b-b218f04f235d"
   },
   "outputs": [
    {
     "name": "stdout",
     "output_type": "stream",
     "text": [
      "tensor(1.0000, device='cuda:0')\n",
      "tensor(1.0000, device='cuda:0')\n",
      "tensor(1.0000, device='cuda:0')\n",
      "tensor(1.0000, device='cuda:0')\n",
      "tensor(1.0000, device='cuda:0')\n",
      "tensor(1.0000, device='cuda:0')\n",
      "tensor(1.0000, device='cuda:0')\n",
      "tensor(1.0000, device='cuda:0')\n",
      "tensor(1.0000, device='cuda:0')\n",
      "tensor(1.0000, device='cuda:0')\n",
      "tensor(1.0000, device='cuda:0')\n",
      "tensor(1.0000, device='cuda:0')\n",
      "tensor(1.0000, device='cuda:0')\n",
      "tensor(1.0000, device='cuda:0')\n",
      "tensor(1., device='cuda:0')\n",
      "tensor(1.0000, device='cuda:0')\n",
      "tensor(1.0000, device='cuda:0')\n",
      "tensor(1.0000, device='cuda:0')\n",
      "tensor(1.0000, device='cuda:0')\n"
     ]
    }
   ],
   "source": [
    "input_batch, token_type_ids, probs, bins = create_margins(tokenizer, MaskedLM_model, sentence_a, sentence_b)"
   ]
  },
  {
   "cell_type": "code",
   "execution_count": null,
   "metadata": {
    "colab": {
     "base_uri": "https://localhost:8080/"
    },
    "executionInfo": {
     "elapsed": 904,
     "status": "ok",
     "timestamp": 1618281727308,
     "user": {
      "displayName": "Yuxin JIANG",
      "photoUrl": "",
      "userId": "08237551511886881536"
     },
     "user_tz": -480
    },
    "id": "7h4MhqnD-ZAg",
    "outputId": "dab0e976-3f22-4296-e0ab-4468128a86a2"
   },
   "outputs": [
    {
     "data": {
      "text/plain": [
       "tensor([[ 101, 2019, 9750,  ..., 3347, 1012,  102],\n",
       "        [ 101, 1000, 9750,  ..., 3347, 1012,  102],\n",
       "        [ 101, 1005, 9750,  ..., 3347, 1012,  102],\n",
       "        ...,\n",
       "        [ 101, 2019, 9750,  ..., 3347, 1029,  102],\n",
       "        [ 101, 2019, 9750,  ..., 3347, 1064,  102],\n",
       "        [ 101, 2019, 9750,  ..., 3347, 2133,  102]])"
      ]
     },
     "execution_count": 9,
     "metadata": {
      "tags": []
     },
     "output_type": "execute_result"
    }
   ],
   "source": [
    "input_batch"
   ]
  },
  {
   "cell_type": "code",
   "execution_count": null,
   "metadata": {
    "colab": {
     "base_uri": "https://localhost:8080/",
     "height": 211,
     "referenced_widgets": [
      "7c9be241ad514ffd93b1ec269ff99f9f",
      "1b0bdc50f146417b990cfc39fb656144",
      "aae0a346757649e4bdbab6216e821d3f",
      "968e22f7b2fe49e89f83fd4376e5df3e",
      "6b5ba4b1e56c432ba5fd420c06fbc1b8",
      "90d30b40636340f4b2ab8aa4ad8c627b",
      "75bac20cb5d84ffc8ffccdfa76c677f6",
      "938b98a5f7874abba35c8abcc993a4e0",
      "c9591a75647e48108e1fce2c3047bcde",
      "c110ee126d7646ab98f1b724041f4424",
      "e42a0fab56124e4cb91a346d33a3e4c6",
      "c70bc018eba64b76804d0dbca39a187a",
      "5c106e648d9548918b66795f37faf51c",
      "e2a0be2c3d924e6e9001ee72fb9fb36c",
      "5e91a8698c0f464dae2297f0a1921d5b",
      "11b20f918a564ae5959fdfdd7f95499f"
     ]
    },
    "executionInfo": {
     "elapsed": 13901,
     "status": "ok",
     "timestamp": 1618281874698,
     "user": {
      "displayName": "Yuxin JIANG",
      "photoUrl": "",
      "userId": "08237551511886881536"
     },
     "user_tz": -480
    },
    "id": "i4BldAJR-QyC",
    "outputId": "cc765e52-ab04-43c8-d0c8-0deca40f9e5a"
   },
   "outputs": [
    {
     "name": "stderr",
     "output_type": "stream",
     "text": [
      "04/13/2021 02:44:22 - INFO - filelock - Lock 140009631922256 acquired on /root/.cache/huggingface/transformers/503aa3ca25ac2de904314b5dd90cbbded5ea1a2b2f86c385501d0e971e0c30e3.64a8c4bcbf603deab65140847c90b0bdca3fc716050c8a4ccd552b8dd6d73e0e.lock\n"
     ]
    },
    {
     "data": {
      "application/vnd.jupyter.widget-view+json": {
       "model_id": "7c9be241ad514ffd93b1ec269ff99f9f",
       "version_major": 2,
       "version_minor": 0
      },
      "text/plain": [
       "HBox(children=(FloatProgress(value=0.0, description='Downloading', max=630.0, style=ProgressStyle(description_…"
      ]
     },
     "metadata": {
      "tags": []
     },
     "output_type": "display_data"
    },
    {
     "name": "stderr",
     "output_type": "stream",
     "text": [
      "04/13/2021 02:44:22 - INFO - filelock - Lock 140009631922256 released on /root/.cache/huggingface/transformers/503aa3ca25ac2de904314b5dd90cbbded5ea1a2b2f86c385501d0e971e0c30e3.64a8c4bcbf603deab65140847c90b0bdca3fc716050c8a4ccd552b8dd6d73e0e.lock\n",
      "04/13/2021 02:44:22 - INFO - filelock - Lock 140009632323984 acquired on /root/.cache/huggingface/transformers/1b0aa1ceb19b55f394a6f885c336afce0cbdce242005ffc9f1fec3bd0d9cd6e2.2e6faf6417d8e75941dc42d31b6a3336fe00e3cfce61e6f3bf3c04a38b1f3ab0.lock\n"
     ]
    },
    {
     "name": "stdout",
     "output_type": "stream",
     "text": [
      "\n"
     ]
    },
    {
     "data": {
      "application/vnd.jupyter.widget-view+json": {
       "model_id": "c9591a75647e48108e1fce2c3047bcde",
       "version_major": 2,
       "version_minor": 0
      },
      "text/plain": [
       "HBox(children=(FloatProgress(value=0.0, description='Downloading', max=437986855.0, style=ProgressStyle(descri…"
      ]
     },
     "metadata": {
      "tags": []
     },
     "output_type": "display_data"
    },
    {
     "name": "stderr",
     "output_type": "stream",
     "text": [
      "04/13/2021 02:44:32 - INFO - filelock - Lock 140009632323984 released on /root/.cache/huggingface/transformers/1b0aa1ceb19b55f394a6f885c336afce0cbdce242005ffc9f1fec3bd0d9cd6e2.2e6faf6417d8e75941dc42d31b6a3336fe00e3cfce61e6f3bf3c04a38b1f3ab0.lock\n"
     ]
    },
    {
     "name": "stdout",
     "output_type": "stream",
     "text": [
      "\n"
     ]
    }
   ],
   "source": [
    "model = AutoModelForSequenceClassification.from_pretrained('textattack/bert-base-uncased-snli', num_labels=3)"
   ]
  },
  {
   "cell_type": "code",
   "execution_count": null,
   "metadata": {
    "colab": {
     "base_uri": "https://localhost:8080/"
    },
    "executionInfo": {
     "elapsed": 11997,
     "status": "ok",
     "timestamp": 1618283348117,
     "user": {
      "displayName": "Yuxin JIANG",
      "photoUrl": "",
      "userId": "08237551511886881536"
     },
     "user_tz": -480
    },
    "id": "o3KYr0rl-vp0",
    "outputId": "c00b3ec8-7d7e-4145-eb69-04c268e56eec"
   },
   "outputs": [
    {
     "name": "stderr",
     "output_type": "stream",
     "text": [
      "04/13/2021 03:08:57 - INFO - __main__ - ***** Running test *****\n",
      "04/13/2021 03:08:57 - INFO - __main__ -   Num examples = 8784\n",
      "04/13/2021 03:08:57 - INFO - __main__ -   Batch size = 100\n",
      "Testing: 100%|██████████| 88/88 [00:11<00:00,  7.62it/s]"
     ]
    },
    {
     "name": "stdout",
     "output_type": "stream",
     "text": [
      "the prediction is:  1\n"
     ]
    },
    {
     "name": "stderr",
     "output_type": "stream",
     "text": [
      "\n"
     ]
    }
   ],
   "source": [
    "WoE = compute_woe(input_batch, token_type_ids, probs, bins, model, batch_size=100, label_a=1, label_b=2)"
   ]
  },
  {
   "cell_type": "code",
   "execution_count": null,
   "metadata": {
    "colab": {
     "base_uri": "https://localhost:8080/"
    },
    "executionInfo": {
     "elapsed": 12476,
     "status": "ok",
     "timestamp": 1618284161598,
     "user": {
      "displayName": "Yuxin JIANG",
      "photoUrl": "",
      "userId": "08237551511886881536"
     },
     "user_tz": -480
    },
    "id": "wHgiPqssP8v4",
    "outputId": "867d478d-1faf-414f-c0da-cad07d5c4cbd"
   },
   "outputs": [
    {
     "name": "stderr",
     "output_type": "stream",
     "text": [
      "04/13/2021 03:22:30 - INFO - __main__ - ***** Running test *****\n",
      "04/13/2021 03:22:30 - INFO - __main__ -   Num examples = 8784\n",
      "04/13/2021 03:22:30 - INFO - __main__ -   Batch size = 100\n",
      "Testing: 100%|██████████| 88/88 [00:11<00:00,  7.38it/s]"
     ]
    },
    {
     "name": "stdout",
     "output_type": "stream",
     "text": [
      "the prediction is:  1\n"
     ]
    },
    {
     "name": "stderr",
     "output_type": "stream",
     "text": [
      "\n"
     ]
    }
   ],
   "source": [
    "WoE1 = compute_woe1(input_batch, token_type_ids, probs, bins, model, batch_size=100, label=1)"
   ]
  },
  {
   "cell_type": "code",
   "execution_count": null,
   "metadata": {
    "colab": {
     "base_uri": "https://localhost:8080/"
    },
    "executionInfo": {
     "elapsed": 632,
     "status": "ok",
     "timestamp": 1618049810011,
     "user": {
      "displayName": "Yuxin JIANG",
      "photoUrl": "",
      "userId": "08237551511886881536"
     },
     "user_tz": -480
    },
    "id": "pv5Hx08fH0Uz",
    "outputId": "12345a78-5487-40ad-ed4e-c299c6f20dc5"
   },
   "outputs": [
    {
     "data": {
      "text/plain": [
       "[0.08463880561396042,\n",
       " 0.001769398566492164,\n",
       " 0.017004191555965775,\n",
       " 0.0762102481586675,\n",
       " 1.2096921633286684e-05,\n",
       " -0.017067313916848015,\n",
       " -0.028907600048981408,\n",
       " 0.08050678932154565,\n",
       " -9.72714558944432e-06,\n",
       " 7.1237626722009395e-06,\n",
       " -1.0901740568058926e-06,\n",
       " -1.8844295484043982e-06,\n",
       " -0.012028574106260237,\n",
       " -0.006514101945613859]"
      ]
     },
     "execution_count": 13,
     "metadata": {
      "tags": []
     },
     "output_type": "execute_result"
    }
   ],
   "source": [
    "WoE "
   ]
  },
  {
   "cell_type": "code",
   "execution_count": null,
   "metadata": {
    "colab": {
     "base_uri": "https://localhost:8080/"
    },
    "executionInfo": {
     "elapsed": 1192,
     "status": "ok",
     "timestamp": 1618050134113,
     "user": {
      "displayName": "Yuxin JIANG",
      "photoUrl": "",
      "userId": "08237551511886881536"
     },
     "user_tz": -480
    },
    "id": "Xy9u2fl1TF-3",
    "outputId": "1cf1cc6d-b013-430c-99db-d60217e70492"
   },
   "outputs": [
    {
     "data": {
      "text/plain": [
       "[0.11003650607013427,\n",
       " 0.2014435171860498,\n",
       " 0.019503594636916866,\n",
       " 0.3889315591227538,\n",
       " 0.12093851045515613,\n",
       " -0.2366033003659096,\n",
       " -0.029008997135763437,\n",
       " 0.1030390409019235,\n",
       " -0.05614145368190915,\n",
       " 0.01816011721484312,\n",
       " -0.047835848595535246,\n",
       " -0.01285102726279419,\n",
       " -0.015171393269711508,\n",
       " -0.021588382140963702]"
      ]
     },
     "execution_count": 14,
     "metadata": {
      "tags": []
     },
     "output_type": "execute_result"
    }
   ],
   "source": [
    "WoE1"
   ]
  },
  {
   "cell_type": "code",
   "execution_count": null,
   "metadata": {
    "id": "KPozLe-0NwIQ"
   },
   "outputs": [],
   "source": [
    "def score_to_color(score, color_limit):\n",
    "\n",
    "    # lowest = color_limit[0]\n",
    "    # highest = color_limit[1]\n",
    "    lowest = -0.5\n",
    "    highest = 0.5\n",
    "\n",
    "    if score > highest:\n",
    "        rgb = [255, 0, 0]\n",
    "    elif score < lowest:\n",
    "        rgb = [0, 0, 255]\n",
    "    elif score > 0:\n",
    "        frac = (highest - score) / highest\n",
    "        red = 255\n",
    "        blue = int(255 * frac)\n",
    "        green = int(255 * frac)\n",
    "\n",
    "        rgb = [red, green, blue]\n",
    "    elif score < 0:\n",
    "        frac = (lowest - score) / lowest\n",
    "        blue = 255\n",
    "        red = int(255 * frac)\n",
    "        green = int(255 * frac)\n",
    "\n",
    "        rgb = [red, green, blue]\n",
    "    else:\n",
    "        rgb = [255, 255, 255]\n",
    "\n",
    "    return str(rgb[0]), str(rgb[1]), str(rgb[2])\n",
    "\n",
    "\n",
    "def continuous_colored_sentence(sentence, att_scores, verbose=True):\n",
    "    tokenized_sentence = tokenizer.tokenize(sentence)\n",
    "\n",
    "    color_limit = [np.min(att_scores), np.max(att_scores)]\n",
    "\n",
    "    colored = []\n",
    "    joined = []\n",
    "\n",
    "    for i in range(len(tokenized_sentence)):\n",
    "        if tokenized_sentence[i][0] == \"#\":\n",
    "            tokenized_sentence[i] = tokenized_sentence[i][2:]\n",
    "            joined.append(1)\n",
    "        else:\n",
    "            joined.append(0)\n",
    "\n",
    "        colors = score_to_color(att_scores[i], color_limit)\n",
    "        colored.append(\n",
    "            \"\\033[48;2;{};{};{}m{}\\033[0m\".format(\n",
    "                colors[0], colors[1], colors[2], tokenized_sentence[i],\n",
    "            )\n",
    "        )\n",
    "    sent = \"\"\n",
    "\n",
    "    for i, elem in enumerate(colored):\n",
    "        if joined[i] == 1:\n",
    "            sent = sent + str(elem)\n",
    "        else:\n",
    "            sent = sent + \" \" + str(elem)\n",
    "\n",
    "    if verbose:\n",
    "        print(sent)\n",
    "    else:\n",
    "        return sent"
   ]
  },
  {
   "cell_type": "code",
   "execution_count": null,
   "metadata": {
    "colab": {
     "base_uri": "https://localhost:8080/"
    },
    "executionInfo": {
     "elapsed": 629,
     "status": "ok",
     "timestamp": 1618127787186,
     "user": {
      "displayName": "Yuxin JIANG",
      "photoUrl": "",
      "userId": "08237551511886881536"
     },
     "user_tz": -480
    },
    "id": "ib6uQ2XsR5KV",
    "outputId": "f921c8cb-49d2-4050-ad0d-28ff793d7264"
   },
   "outputs": [
    {
     "name": "stdout",
     "output_type": "stream",
     "text": [
      " \u001b[48;2;255;211;211msuffers\u001b[0m \u001b[48;2;255;254;254mfrom\u001b[0m \u001b[48;2;255;246;246mthe\u001b[0m \u001b[48;2;255;216;216mlack\u001b[0m \u001b[48;2;255;254;254mof\u001b[0m \u001b[48;2;246;246;255ma\u001b[0m \u001b[48;2;240;240;255mcompelling\u001b[0m \u001b[48;2;255;213;213mor\u001b[0m \u001b[48;2;254;254;255mcom\u001b[0m\u001b[48;2;255;254;254mpre\u001b[0m\u001b[48;2;254;254;255mhen\u001b[0m\u001b[48;2;254;254;255msible\u001b[0m \u001b[48;2;248;248;255mnarrative\u001b[0m \u001b[48;2;251;251;255m.\u001b[0m\n"
     ]
    }
   ],
   "source": [
    "continuous_colored_sentence(sentence, WoE)"
   ]
  },
  {
   "cell_type": "code",
   "execution_count": null,
   "metadata": {
    "colab": {
     "base_uri": "https://localhost:8080/"
    },
    "executionInfo": {
     "elapsed": 730,
     "status": "ok",
     "timestamp": 1618125920468,
     "user": {
      "displayName": "Yuxin JIANG",
      "photoUrl": "",
      "userId": "08237551511886881536"
     },
     "user_tz": -480
    },
    "id": "xOM-b9G5PW76",
    "outputId": "72f3d97a-a4a2-4d34-def4-d688443dc80e"
   },
   "outputs": [
    {
     "name": "stdout",
     "output_type": "stream",
     "text": [
      " \u001b[48;2;255;198;198msuffers\u001b[0m \u001b[48;2;255;152;152mfrom\u001b[0m \u001b[48;2;255;245;245mthe\u001b[0m \u001b[48;2;255;56;56mlack\u001b[0m \u001b[48;2;255;193;193mof\u001b[0m \u001b[48;2;134;134;255ma\u001b[0m \u001b[48;2;240;240;255mcompelling\u001b[0m \u001b[48;2;255;202;202mor\u001b[0m \u001b[48;2;226;226;255mcom\u001b[0m\u001b[48;2;255;245;245mpre\u001b[0m\u001b[48;2;230;230;255mhen\u001b[0m\u001b[48;2;248;248;255msible\u001b[0m \u001b[48;2;247;247;255mnarrative\u001b[0m \u001b[48;2;243;243;255m.\u001b[0m\n"
     ]
    }
   ],
   "source": [
    "continuous_colored_sentence(sentence, WoE)"
   ]
  },
  {
   "cell_type": "code",
   "execution_count": null,
   "metadata": {
    "colab": {
     "base_uri": "https://localhost:8080/"
    },
    "executionInfo": {
     "elapsed": 657,
     "status": "ok",
     "timestamp": 1618050568626,
     "user": {
      "displayName": "Yuxin JIANG",
      "photoUrl": "",
      "userId": "08237551511886881536"
     },
     "user_tz": -480
    },
    "id": "ZjSpAaipVDT5",
    "outputId": "950e837a-97f2-49b3-eaf5-23f73a3e2653"
   },
   "outputs": [
    {
     "name": "stdout",
     "output_type": "stream",
     "text": [
      " \u001b[48;2;255;206;206mthe\u001b[0m \u001b[48;2;255;0;0mbest\u001b[0m \u001b[48;2;255;214;214mfilm\u001b[0m \u001b[48;2;255;237;237mabout\u001b[0m \u001b[48;2;255;187;187mbaseball\u001b[0m \u001b[48;2;255;249;249mto\u001b[0m \u001b[48;2;255;230;230mhit\u001b[0m \u001b[48;2;255;221;221mtheaters\u001b[0m \u001b[48;2;255;78;78msince\u001b[0m \u001b[48;2;255;246;246mfield\u001b[0m \u001b[48;2;255;254;254mof\u001b[0m \u001b[48;2;255;223;223mdreams\u001b[0m \u001b[48;2;255;253;253m.\u001b[0m\n"
     ]
    }
   ],
   "source": [
    "continuous_colored_sentence(sentence, WoE)"
   ]
  },
  {
   "cell_type": "code",
   "execution_count": null,
   "metadata": {
    "colab": {
     "base_uri": "https://localhost:8080/"
    },
    "executionInfo": {
     "elapsed": 666,
     "status": "ok",
     "timestamp": 1618050474234,
     "user": {
      "displayName": "Yuxin JIANG",
      "photoUrl": "",
      "userId": "08237551511886881536"
     },
     "user_tz": -480
    },
    "id": "oLdsBwg9Qhba",
    "outputId": "887c3883-b452-4ae1-fc82-ac4e5f8ef147"
   },
   "outputs": [
    {
     "name": "stdout",
     "output_type": "stream",
     "text": [
      " \u001b[48;2;255;0;0mthe\u001b[0m \u001b[48;2;255;0;0mbest\u001b[0m \u001b[48;2;255;212;212mfilm\u001b[0m \u001b[48;2;255;187;187mabout\u001b[0m \u001b[48;2;255;187;187mbaseball\u001b[0m \u001b[48;2;255;208;208mto\u001b[0m \u001b[48;2;255;201;201mhit\u001b[0m \u001b[48;2;255;216;216mtheaters\u001b[0m \u001b[48;2;255;77;77msince\u001b[0m \u001b[48;2;255;236;236mfield\u001b[0m \u001b[48;2;255;253;253mof\u001b[0m \u001b[48;2;255;206;206mdreams\u001b[0m \u001b[48;2;255;243;243m.\u001b[0m\n"
     ]
    }
   ],
   "source": [
    "continuous_colored_sentence(sentence, WoE)"
   ]
  },
  {
   "cell_type": "code",
   "execution_count": null,
   "metadata": {
    "colab": {
     "base_uri": "https://localhost:8080/"
    },
    "executionInfo": {
     "elapsed": 614,
     "status": "ok",
     "timestamp": 1618050964104,
     "user": {
      "displayName": "Yuxin JIANG",
      "photoUrl": "",
      "userId": "08237551511886881536"
     },
     "user_tz": -480
    },
    "id": "bac8iQNRUelH",
    "outputId": "849e184a-9ba4-4a31-fe3c-4ddf37c72573"
   },
   "outputs": [
    {
     "name": "stdout",
     "output_type": "stream",
     "text": [
      " \u001b[48;2;0;0;255mif\u001b[0m \u001b[48;2;255;243;243msteven\u001b[0m \u001b[48;2;254;254;255mso\u001b[0m\u001b[48;2;254;254;255mder\u001b[0m\u001b[48;2;248;248;255mberg\u001b[0m\u001b[48;2;254;254;255mh\u001b[0m \u001b[48;2;255;254;254m'\u001b[0m \u001b[48;2;254;254;255ms\u001b[0m \u001b[48;2;15;15;255m`\u001b[0m \u001b[48;2;157;157;255msolar\u001b[0m\u001b[48;2;0;0;255mis\u001b[0m \u001b[48;2;255;242;242m'\u001b[0m \u001b[48;2;255;240;240mis\u001b[0m \u001b[48;2;251;251;255ma\u001b[0m \u001b[48;2;0;0;255mfailure\u001b[0m \u001b[48;2;157;157;255mit\u001b[0m \u001b[48;2;209;209;255mis\u001b[0m \u001b[48;2;233;233;255ma\u001b[0m \u001b[48;2;0;0;255mglorious\u001b[0m \u001b[48;2;255;0;0mfailure\u001b[0m \u001b[48;2;200;200;255m.\u001b[0m\n"
     ]
    }
   ],
   "source": [
    "continuous_colored_sentence(sentence, WoE)"
   ]
  },
  {
   "cell_type": "code",
   "execution_count": null,
   "metadata": {
    "colab": {
     "base_uri": "https://localhost:8080/"
    },
    "executionInfo": {
     "elapsed": 616,
     "status": "ok",
     "timestamp": 1618051101522,
     "user": {
      "displayName": "Yuxin JIANG",
      "photoUrl": "",
      "userId": "08237551511886881536"
     },
     "user_tz": -480
    },
    "id": "AY8g0B3jWlf3",
    "outputId": "8430f433-2333-472f-9ba9-471875a17ffa"
   },
   "outputs": [
    {
     "name": "stdout",
     "output_type": "stream",
     "text": [
      " \u001b[48;2;0;0;255mif\u001b[0m \u001b[48;2;255;233;233msteven\u001b[0m \u001b[48;2;0;0;255mso\u001b[0m\u001b[48;2;105;105;255mder\u001b[0m\u001b[48;2;0;0;255mberg\u001b[0m\u001b[48;2;215;215;255mh\u001b[0m \u001b[48;2;255;232;232m'\u001b[0m \u001b[48;2;0;0;255ms\u001b[0m \u001b[48;2;15;15;255m`\u001b[0m \u001b[48;2;139;139;255msolar\u001b[0m\u001b[48;2;0;0;255mis\u001b[0m \u001b[48;2;255;0;0m'\u001b[0m \u001b[48;2;255;173;173mis\u001b[0m \u001b[48;2;0;0;255ma\u001b[0m \u001b[48;2;0;0;255mfailure\u001b[0m \u001b[48;2;0;0;255mit\u001b[0m \u001b[48;2;0;0;255mis\u001b[0m \u001b[48;2;0;0;255ma\u001b[0m \u001b[48;2;0;0;255mglorious\u001b[0m \u001b[48;2;255;0;0mfailure\u001b[0m \u001b[48;2;0;0;255m.\u001b[0m\n"
     ]
    }
   ],
   "source": [
    "continuous_colored_sentence(sentence, WoE)"
   ]
  },
  {
   "cell_type": "code",
   "execution_count": null,
   "metadata": {
    "colab": {
     "base_uri": "https://localhost:8080/"
    },
    "executionInfo": {
     "elapsed": 640,
     "status": "ok",
     "timestamp": 1618283277872,
     "user": {
      "displayName": "Yuxin JIANG",
      "photoUrl": "",
      "userId": "08237551511886881536"
     },
     "user_tz": -480
    },
    "id": "Y58LojNKXHC3",
    "outputId": "37dd2fe7-8d2f-41db-8c8f-84014c73a7b6"
   },
   "outputs": [
    {
     "name": "stdout",
     "output_type": "stream",
     "text": [
      " \u001b[48;2;254;254;255ma\u001b[0m \u001b[48;2;255;189;189mbig\u001b[0m \u001b[48;2;255;237;237mbrown\u001b[0m \u001b[48;2;255;0;0mdog\u001b[0m \u001b[48;2;255;53;53mswim\u001b[0m\u001b[48;2;255;254;254ms\u001b[0m \u001b[48;2;255;226;226mtowards\u001b[0m \u001b[48;2;255;253;253mthe\u001b[0m \u001b[48;2;255;136;136mcamera\u001b[0m \u001b[48;2;255;254;254m.\u001b[0m\n",
      " \u001b[48;2;255;254;254ma\u001b[0m \u001b[48;2;255;130;130mdog\u001b[0m \u001b[48;2;255;0;0mswim\u001b[0m\u001b[48;2;255;0;0ms\u001b[0m \u001b[48;2;255;181;181mtowards\u001b[0m \u001b[48;2;255;254;254mthe\u001b[0m \u001b[48;2;255;232;232mcamera\u001b[0m \u001b[48;2;255;252;252m.\u001b[0m\n"
     ]
    }
   ],
   "source": [
    "continuous_colored_sentence(sentence_a, WoE[:len(tokenizer.tokenize(sentence_a))])\n",
    "continuous_colored_sentence(sentence_b, WoE[len(tokenizer.tokenize(sentence_b))+1:])"
   ]
  },
  {
   "cell_type": "code",
   "execution_count": null,
   "metadata": {
    "id": "-Q81z-Z3n4HS"
   },
   "outputs": [],
   "source": [
    "def evaluate_AUC(tokenizer, MaskedLM_model, model, WoE, sentence_a, sentence_b=None, device='cuda'):\n",
    "  MaskedLM_model.to(device)\n",
    "  if sentence_b:\n",
    "    input_ids = tokenizer(sentence_a, sentence_b, return_tensors=\"pt\")['input_ids']\n",
    "    token_type_ids = tokenizer(sentence_a, sentence_b, return_tensors=\"pt\")['token_type_ids']\n",
    "  else:\n",
    "    input_ids = tokenizer(sentence_a, return_tensors=\"pt\")['input_ids']\n",
    "    token_type_ids = tokenizer(sentence_a, return_tensors=\"pt\")['token_type_ids']\n",
    "\n",
    "  mask_id = tokenizer.convert_tokens_to_ids('[MASK]')\n",
    "  input_batch = input_ids.clone()\n",
    "  input_replaced = input_ids.clone()\n",
    "\n",
    "  for i in range(len(WoE) // 5):\n",
    "    idx = np.argsort(-np.array(WoE))[i]\n",
    "    masked_input = input_ids.clone().to(device)\n",
    "    masked_input[0][idx+1] = mask_id\n",
    "  \n",
    "    MaskedLM_model.eval()\n",
    "    with torch.no_grad():\n",
    "      tokens_score = MaskedLM_model(masked_input)[0][0][idx+1]\n",
    "    tokens_score = F.softmax(tokens_score, dim=-1)\n",
    "    \n",
    "    ############# modified method ################\n",
    "    delete_token_id = input_ids[0][idx+1].item()\n",
    "    tokens_score = tokens_score / (tokens_score.sum() - tokens_score[delete_token_id])\n",
    "    tokens_score[delete_token_id] = 0\n",
    "    print(tokens_score.sum())\n",
    "    np.random.seed(1)\n",
    "    sampled_idx = np.random.choice(a=len(tokens_score), size=1, replace=False, p=tokens_score.detach().cpu().numpy())[0]\n",
    "\n",
    "    input_batch = torch.cat((input_batch, input_replaced), 0)\n",
    "    input_batch[-1][idx+1] = sampled_idx\n",
    "    input_replaced = input_batch[-1].unsqueeze(0)\n",
    "\n",
    "  token_type_ids = torch.repeat_interleave(token_type_ids, repeats=input_batch.shape[0], dim=0)\n",
    "  print(input_batch)\n",
    "  dataset = TensorDataset(input_batch, token_type_ids)\n",
    "  dataloader = torch.utils.data.DataLoader(dataset, shuffle=False, batch_size=input_batch.shape[0])\n",
    "  model.to(device)\n",
    "  for batch in tqdm(dataloader, desc=\"Testing\"):\n",
    "    model.eval()\n",
    "    batch = tuple(t.to(device) for t in batch)\n",
    "    with torch.no_grad():\n",
    "      logits = model(input_ids = batch[0],token_type_ids = batch[1],)[0]\n",
    "    probs = F.softmax(logits, dim=-1).detach().cpu().numpy()\n",
    "    prediction = np.argmax(probs[0])\n",
    "    line = probs[:, prediction]\n",
    "    AUC = 0.5 * (2 * np.sum(line[1: -1]) + line[0] + line[-1])\n",
    "\n",
    "    plt.figure()\n",
    "    plt.plot(range(0, len(WoE) // 5 + 1), line, marker='o')\n",
    "    print(AUC)\n",
    "\n",
    "  return line, AUC"
   ]
  },
  {
   "cell_type": "code",
   "execution_count": null,
   "metadata": {
    "colab": {
     "base_uri": "https://localhost:8080/",
     "height": 649
    },
    "executionInfo": {
     "elapsed": 943,
     "status": "ok",
     "timestamp": 1618128389105,
     "user": {
      "displayName": "Yuxin JIANG",
      "photoUrl": "",
      "userId": "08237551511886881536"
     },
     "user_tz": -480
    },
    "id": "QmVqo1Zr7sZB",
    "outputId": "83a37d48-ae48-4085-8092-7b14eb49e542"
   },
   "outputs": [
    {
     "name": "stderr",
     "output_type": "stream",
     "text": [
      "Testing: 100%|██████████| 1/1 [00:00<00:00, 30.63it/s]"
     ]
    },
    {
     "name": "stdout",
     "output_type": "stream",
     "text": [
      "tensor(1.0000, device='cuda:0')\n",
      "tensor(1.0000, device='cuda:0')\n",
      "tensor(1.0000, device='cuda:0')\n",
      "tensor(1.0000, device='cuda:0')\n",
      "tensor([[  101,  2065,  7112,  2061,  4063,  4059,  2232,  1005,  1055,  1036,\n",
      "          5943,  2483,  1005,  2003,  1037,  4945,  2009,  2003,  1037, 14013,\n",
      "          4945,  1012,   102],\n",
      "        [  101,  2065,  7112,  2061,  4063,  4059,  2232,  1005,  1055,  1036,\n",
      "          5943,  2483,  1005,  2003,  1037,  4945,  2009,  2003,  1037, 14013,\n",
      "          2543,  1012,   102],\n",
      "        [  101,  2065,  7112,  2061,  4063,  4059,  2232,  1005,  1055,  1036,\n",
      "          5943,  2483,  1005,  2001,  1037,  4945,  2009,  2003,  1037, 14013,\n",
      "          2543,  1012,   102],\n",
      "        [  101,  2065,  7112,  2061,  4063,  4059,  2232,  1005,  1055,  1036,\n",
      "          5943,  2483,  1036,  2001,  1037,  4945,  2009,  2003,  1037, 14013,\n",
      "          2543,  1012,   102],\n",
      "        [  101,  2065,  3854,  2061,  4063,  4059,  2232,  1005,  1055,  1036,\n",
      "          5943,  2483,  1036,  2001,  1037,  4945,  2009,  2003,  1037, 14013,\n",
      "          2543,  1012,   102]])\n",
      "0.29557447868864983\n"
     ]
    },
    {
     "name": "stderr",
     "output_type": "stream",
     "text": [
      "\n"
     ]
    },
    {
     "data": {
      "image/png": "[encoded data removed]",
      "text/plain": [
       "<Figure size 432x288 with 1 Axes>"
      ]
     },
     "metadata": {
      "needs_background": "light",
      "tags": []
     },
     "output_type": "display_data"
    }
   ],
   "source": [
    "line, AUC = evaluate_AUC(tokenizer, MaskedLM_model, model, WoE, sentence)"
   ]
  },
  {
   "cell_type": "code",
   "execution_count": null,
   "metadata": {
    "colab": {
     "base_uri": "https://localhost:8080/",
     "height": 667
    },
    "executionInfo": {
     "elapsed": 955,
     "status": "ok",
     "timestamp": 1618128107621,
     "user": {
      "displayName": "Yuxin JIANG",
      "photoUrl": "",
      "userId": "08237551511886881536"
     },
     "user_tz": -480
    },
    "id": "PihwhHNYogCb",
    "outputId": "3a52f421-ef20-41c7-9bde-f106ffeae1a5"
   },
   "outputs": [
    {
     "name": "stderr",
     "output_type": "stream",
     "text": [
      "Testing: 100%|██████████| 1/1 [00:00<00:00, 34.65it/s]"
     ]
    },
    {
     "name": "stdout",
     "output_type": "stream",
     "text": [
      "tensor(1.0000, device='cuda:0')\n",
      "tensor(1.0000, device='cuda:0')\n",
      "tensor(1.0000, device='cuda:0')\n",
      "tensor(1.0000, device='cuda:0')\n",
      "tensor(1.0000, device='cuda:0')\n",
      "tensor(1.0000, device='cuda:0')\n",
      "tensor([[  101,  1996,  2190,  2143,  2055,  3598,  2000,  2718, 12370,  2144,\n",
      "          2492,  1997,  5544,  1012,   102],\n",
      "        [  101,  1996,  2190,  2143,  2055,  3598,  2000,  2718, 12370,  2144,\n",
      "          2492,  2115,  5544,  1012,   102],\n",
      "        [  101,  1996,  2190,  2143,  2055,  3598,  2000,  2718, 12370,  2144,\n",
      "          2492,  2115,  5544,  1025,   102],\n",
      "        [  101,  1996,  2190,  2143,  2055,  3598,  2000,  2718, 12370,  2144,\n",
      "          2534,  2115,  5544,  1025,   102],\n",
      "        [  101,  1996,  2190,  2143,  2055,  3598,  2000,  2718,  2547,  2144,\n",
      "          2534,  2115,  5544,  1025,   102],\n",
      "        [  101,  1996,  2190,  2338,  2055,  3598,  2000,  2718,  2547,  2144,\n",
      "          2534,  2115,  5544,  1025,   102],\n",
      "        [  101,  1996,  2190,  2338,  2055,  3598,  2018,  2718,  2547,  2144,\n",
      "          2534,  2115,  5544,  1025,   102]])\n",
      "5.998114466667175\n"
     ]
    },
    {
     "name": "stderr",
     "output_type": "stream",
     "text": [
      "\n"
     ]
    },
    {
     "data": {
      "image/png": "[encoded data removed]",
      "text/plain": [
       "<Figure size 432x288 with 1 Axes>"
      ]
     },
     "metadata": {
      "needs_background": "light",
      "tags": []
     },
     "output_type": "display_data"
    }
   ],
   "source": [
    "line, AUC = evaluate_AUC(tokenizer, MaskedLM_model, model, WoE, sentence)"
   ]
  }
 ],
 "metadata": {
  "colab": {
   "authorship_tag": "ABX9TyMxx1aWhF6pwITNrBVOEFu1",
   "collapsed_sections": [],
   "name": "input_marginization.ipynb",
   "provenance": []
  },
  "kernelspec": {
   "display_name": "Python 3",
   "language": "python",
   "name": "python3"
  },
  "language_info": {
   "codemirror_mode": {
    "name": "ipython",
    "version": 3
   },
   "file_extension": ".py",
   "mimetype": "text/x-python",
   "name": "python",
   "nbconvert_exporter": "python",
   "pygments_lexer": "ipython3",
   "version": "3.6.11"
  },
  "varInspector": {
   "cols": {
    "lenName": 16,
    "lenType": 16,
    "lenVar": 40
   },
   "kernels_config": {
    "python": {
     "delete_cmd_postfix": "",
     "delete_cmd_prefix": "del ",
     "library": "var_list.py",
     "varRefreshCmd": "print(var_dic_list())"
    },
    "r": {
     "delete_cmd_postfix": ") ",
     "delete_cmd_prefix": "rm(",
     "library": "var_list.r",
     "varRefreshCmd": "cat(var_dic_list()) "
    }
   },
   "types_to_exclude": [
    "module",
    "function",
    "builtin_function_or_method",
    "instance",
    "_Feature"
   ],
   "window_display": false
  },
  "widgets": {
   "application/vnd.jupyter.widget-state+json": {
    "0dee19eeb9d8435e97cfa98e40610ba6": {
     "model_module": "@jupyter-widgets/controls",
     "model_name": "FloatProgressModel",
     "state": {
      "_dom_classes": [],
      "_model_module": "@jupyter-widgets/controls",
      "_model_module_version": "1.5.0",
      "_model_name": "FloatProgressModel",
      "_view_count": null,
      "_view_module": "@jupyter-widgets/controls",
      "_view_module_version": "1.5.0",
      "_view_name": "ProgressView",
      "bar_style": "success",
      "description": "Downloading: 100%",
      "description_tooltip": null,
      "layout": "IPY_MODEL_7d1172e21758490d917f87bc08476342",
      "max": 231508,
      "min": 0,
      "orientation": "horizontal",
      "style": "IPY_MODEL_e6954fc13923408a8f2a729d7e820416",
      "value": 231508
     }
    },
    "0e0cde41cd2d40d799c1979c9a4ac4b7": {
     "model_module": "@jupyter-widgets/controls",
     "model_name": "HTMLModel",
     "state": {
      "_dom_classes": [],
      "_model_module": "@jupyter-widgets/controls",
      "_model_module_version": "1.5.0",
      "_model_name": "HTMLModel",
      "_view_count": null,
      "_view_module": "@jupyter-widgets/controls",
      "_view_module_version": "1.5.0",
      "_view_name": "HTMLView",
      "description": "",
      "description_tooltip": null,
      "layout": "IPY_MODEL_d370821b4dca4922aa9141dbdea234bd",
      "placeholder": "​",
      "style": "IPY_MODEL_58210ad7960345b6a7ff43b438ebfd1d",
      "value": " 28.0/28.0 [00:04&lt;00:00, 5.77B/s]"
     }
    },
    "11b20f918a564ae5959fdfdd7f95499f": {
     "model_module": "@jupyter-widgets/base",
     "model_name": "LayoutModel",
     "state": {
      "_model_module": "@jupyter-widgets/base",
      "_model_module_version": "1.2.0",
      "_model_name": "LayoutModel",
      "_view_count": null,
      "_view_module": "@jupyter-widgets/base",
      "_view_module_version": "1.2.0",
      "_view_name": "LayoutView",
      "align_content": null,
      "align_items": null,
      "align_self": null,
      "border": null,
      "bottom": null,
      "display": null,
      "flex": null,
      "flex_flow": null,
      "grid_area": null,
      "grid_auto_columns": null,
      "grid_auto_flow": null,
      "grid_auto_rows": null,
      "grid_column": null,
      "grid_gap": null,
      "grid_row": null,
      "grid_template_areas": null,
      "grid_template_columns": null,
      "grid_template_rows": null,
      "height": null,
      "justify_content": null,
      "justify_items": null,
      "left": null,
      "margin": null,
      "max_height": null,
      "max_width": null,
      "min_height": null,
      "min_width": null,
      "object_fit": null,
      "object_position": null,
      "order": null,
      "overflow": null,
      "overflow_x": null,
      "overflow_y": null,
      "padding": null,
      "right": null,
      "top": null,
      "visibility": null,
      "width": null
     }
    },
    "12b3a171fcd440ce82b5846151a38bd2": {
     "model_module": "@jupyter-widgets/base",
     "model_name": "LayoutModel",
     "state": {
      "_model_module": "@jupyter-widgets/base",
      "_model_module_version": "1.2.0",
      "_model_name": "LayoutModel",
      "_view_count": null,
      "_view_module": "@jupyter-widgets/base",
      "_view_module_version": "1.2.0",
      "_view_name": "LayoutView",
      "align_content": null,
      "align_items": null,
      "align_self": null,
      "border": null,
      "bottom": null,
      "display": null,
      "flex": null,
      "flex_flow": null,
      "grid_area": null,
      "grid_auto_columns": null,
      "grid_auto_flow": null,
      "grid_auto_rows": null,
      "grid_column": null,
      "grid_gap": null,
      "grid_row": null,
      "grid_template_areas": null,
      "grid_template_columns": null,
      "grid_template_rows": null,
      "height": null,
      "justify_content": null,
      "justify_items": null,
      "left": null,
      "margin": null,
      "max_height": null,
      "max_width": null,
      "min_height": null,
      "min_width": null,
      "object_fit": null,
      "object_position": null,
      "order": null,
      "overflow": null,
      "overflow_x": null,
      "overflow_y": null,
      "padding": null,
      "right": null,
      "top": null,
      "visibility": null,
      "width": null
     }
    },
    "16d025dde17b4f1494cd3a1f8324921d": {
     "model_module": "@jupyter-widgets/controls",
     "model_name": "HBoxModel",
     "state": {
      "_dom_classes": [],
      "_model_module": "@jupyter-widgets/controls",
      "_model_module_version": "1.5.0",
      "_model_name": "HBoxModel",
      "_view_count": null,
      "_view_module": "@jupyter-widgets/controls",
      "_view_module_version": "1.5.0",
      "_view_name": "HBoxView",
      "box_style": "",
      "children": [
       "IPY_MODEL_0dee19eeb9d8435e97cfa98e40610ba6",
       "IPY_MODEL_a168456c7ac64032aa23eed4418695b2"
      ],
      "layout": "IPY_MODEL_502e7de0f5d34f489042e6ceb2224ac0"
     }
    },
    "1b0bdc50f146417b990cfc39fb656144": {
     "model_module": "@jupyter-widgets/base",
     "model_name": "LayoutModel",
     "state": {
      "_model_module": "@jupyter-widgets/base",
      "_model_module_version": "1.2.0",
      "_model_name": "LayoutModel",
      "_view_count": null,
      "_view_module": "@jupyter-widgets/base",
      "_view_module_version": "1.2.0",
      "_view_name": "LayoutView",
      "align_content": null,
      "align_items": null,
      "align_self": null,
      "border": null,
      "bottom": null,
      "display": null,
      "flex": null,
      "flex_flow": null,
      "grid_area": null,
      "grid_auto_columns": null,
      "grid_auto_flow": null,
      "grid_auto_rows": null,
      "grid_column": null,
      "grid_gap": null,
      "grid_row": null,
      "grid_template_areas": null,
      "grid_template_columns": null,
      "grid_template_rows": null,
      "height": null,
      "justify_content": null,
      "justify_items": null,
      "left": null,
      "margin": null,
      "max_height": null,
      "max_width": null,
      "min_height": null,
      "min_width": null,
      "object_fit": null,
      "object_position": null,
      "order": null,
      "overflow": null,
      "overflow_x": null,
      "overflow_y": null,
      "padding": null,
      "right": null,
      "top": null,
      "visibility": null,
      "width": null
     }
    },
    "1b68caed48cd4ee7aa135dd3ee100e51": {
     "model_module": "@jupyter-widgets/controls",
     "model_name": "ProgressStyleModel",
     "state": {
      "_model_module": "@jupyter-widgets/controls",
      "_model_module_version": "1.5.0",
      "_model_name": "ProgressStyleModel",
      "_view_count": null,
      "_view_module": "@jupyter-widgets/base",
      "_view_module_version": "1.2.0",
      "_view_name": "StyleView",
      "bar_color": null,
      "description_width": "initial"
     }
    },
    "23705e9f82ee4a7f9babd726f6738a04": {
     "model_module": "@jupyter-widgets/base",
     "model_name": "LayoutModel",
     "state": {
      "_model_module": "@jupyter-widgets/base",
      "_model_module_version": "1.2.0",
      "_model_name": "LayoutModel",
      "_view_count": null,
      "_view_module": "@jupyter-widgets/base",
      "_view_module_version": "1.2.0",
      "_view_name": "LayoutView",
      "align_content": null,
      "align_items": null,
      "align_self": null,
      "border": null,
      "bottom": null,
      "display": null,
      "flex": null,
      "flex_flow": null,
      "grid_area": null,
      "grid_auto_columns": null,
      "grid_auto_flow": null,
      "grid_auto_rows": null,
      "grid_column": null,
      "grid_gap": null,
      "grid_row": null,
      "grid_template_areas": null,
      "grid_template_columns": null,
      "grid_template_rows": null,
      "height": null,
      "justify_content": null,
      "justify_items": null,
      "left": null,
      "margin": null,
      "max_height": null,
      "max_width": null,
      "min_height": null,
      "min_width": null,
      "object_fit": null,
      "object_position": null,
      "order": null,
      "overflow": null,
      "overflow_x": null,
      "overflow_y": null,
      "padding": null,
      "right": null,
      "top": null,
      "visibility": null,
      "width": null
     }
    },
    "2da3505b07f14839839fe50ea84b1810": {
     "model_module": "@jupyter-widgets/controls",
     "model_name": "ProgressStyleModel",
     "state": {
      "_model_module": "@jupyter-widgets/controls",
      "_model_module_version": "1.5.0",
      "_model_name": "ProgressStyleModel",
      "_view_count": null,
      "_view_module": "@jupyter-widgets/base",
      "_view_module_version": "1.2.0",
      "_view_name": "StyleView",
      "bar_color": null,
      "description_width": "initial"
     }
    },
    "4314c57b9bc6413782be727a2a080fe1": {
     "model_module": "@jupyter-widgets/controls",
     "model_name": "HBoxModel",
     "state": {
      "_dom_classes": [],
      "_model_module": "@jupyter-widgets/controls",
      "_model_module_version": "1.5.0",
      "_model_name": "HBoxModel",
      "_view_count": null,
      "_view_module": "@jupyter-widgets/controls",
      "_view_module_version": "1.5.0",
      "_view_name": "HBoxView",
      "box_style": "",
      "children": [
       "IPY_MODEL_6f86f41d575b4f4cadd2ba24314f37eb",
       "IPY_MODEL_bc08fb3d23e7441aaa2130012102ec55"
      ],
      "layout": "IPY_MODEL_23705e9f82ee4a7f9babd726f6738a04"
     }
    },
    "4ca2d973d77d422ebf1bf9e1c4ec1f6c": {
     "model_module": "@jupyter-widgets/base",
     "model_name": "LayoutModel",
     "state": {
      "_model_module": "@jupyter-widgets/base",
      "_model_module_version": "1.2.0",
      "_model_name": "LayoutModel",
      "_view_count": null,
      "_view_module": "@jupyter-widgets/base",
      "_view_module_version": "1.2.0",
      "_view_name": "LayoutView",
      "align_content": null,
      "align_items": null,
      "align_self": null,
      "border": null,
      "bottom": null,
      "display": null,
      "flex": null,
      "flex_flow": null,
      "grid_area": null,
      "grid_auto_columns": null,
      "grid_auto_flow": null,
      "grid_auto_rows": null,
      "grid_column": null,
      "grid_gap": null,
      "grid_row": null,
      "grid_template_areas": null,
      "grid_template_columns": null,
      "grid_template_rows": null,
      "height": null,
      "justify_content": null,
      "justify_items": null,
      "left": null,
      "margin": null,
      "max_height": null,
      "max_width": null,
      "min_height": null,
      "min_width": null,
      "object_fit": null,
      "object_position": null,
      "order": null,
      "overflow": null,
      "overflow_x": null,
      "overflow_y": null,
      "padding": null,
      "right": null,
      "top": null,
      "visibility": null,
      "width": null
     }
    },
    "4e479a6d2a60448fa0744aa4684751d7": {
     "model_module": "@jupyter-widgets/controls",
     "model_name": "HBoxModel",
     "state": {
      "_dom_classes": [],
      "_model_module": "@jupyter-widgets/controls",
      "_model_module_version": "1.5.0",
      "_model_name": "HBoxModel",
      "_view_count": null,
      "_view_module": "@jupyter-widgets/controls",
      "_view_module_version": "1.5.0",
      "_view_name": "HBoxView",
      "box_style": "",
      "children": [
       "IPY_MODEL_a5ad18892b1c4e8a8442f0293552899e",
       "IPY_MODEL_8748e7a7236a48d7a122aa34891b2f2f"
      ],
      "layout": "IPY_MODEL_5eb4f9d87a82487f8a7703012964ca15"
     }
    },
    "502e7de0f5d34f489042e6ceb2224ac0": {
     "model_module": "@jupyter-widgets/base",
     "model_name": "LayoutModel",
     "state": {
      "_model_module": "@jupyter-widgets/base",
      "_model_module_version": "1.2.0",
      "_model_name": "LayoutModel",
      "_view_count": null,
      "_view_module": "@jupyter-widgets/base",
      "_view_module_version": "1.2.0",
      "_view_name": "LayoutView",
      "align_content": null,
      "align_items": null,
      "align_self": null,
      "border": null,
      "bottom": null,
      "display": null,
      "flex": null,
      "flex_flow": null,
      "grid_area": null,
      "grid_auto_columns": null,
      "grid_auto_flow": null,
      "grid_auto_rows": null,
      "grid_column": null,
      "grid_gap": null,
      "grid_row": null,
      "grid_template_areas": null,
      "grid_template_columns": null,
      "grid_template_rows": null,
      "height": null,
      "justify_content": null,
      "justify_items": null,
      "left": null,
      "margin": null,
      "max_height": null,
      "max_width": null,
      "min_height": null,
      "min_width": null,
      "object_fit": null,
      "object_position": null,
      "order": null,
      "overflow": null,
      "overflow_x": null,
      "overflow_y": null,
      "padding": null,
      "right": null,
      "top": null,
      "visibility": null,
      "width": null
     }
    },
    "58210ad7960345b6a7ff43b438ebfd1d": {
     "model_module": "@jupyter-widgets/controls",
     "model_name": "DescriptionStyleModel",
     "state": {
      "_model_module": "@jupyter-widgets/controls",
      "_model_module_version": "1.5.0",
      "_model_name": "DescriptionStyleModel",
      "_view_count": null,
      "_view_module": "@jupyter-widgets/base",
      "_view_module_version": "1.2.0",
      "_view_name": "StyleView",
      "description_width": ""
     }
    },
    "5b6a9f9d1fd146d693028ac8ccbdef9a": {
     "model_module": "@jupyter-widgets/base",
     "model_name": "LayoutModel",
     "state": {
      "_model_module": "@jupyter-widgets/base",
      "_model_module_version": "1.2.0",
      "_model_name": "LayoutModel",
      "_view_count": null,
      "_view_module": "@jupyter-widgets/base",
      "_view_module_version": "1.2.0",
      "_view_name": "LayoutView",
      "align_content": null,
      "align_items": null,
      "align_self": null,
      "border": null,
      "bottom": null,
      "display": null,
      "flex": null,
      "flex_flow": null,
      "grid_area": null,
      "grid_auto_columns": null,
      "grid_auto_flow": null,
      "grid_auto_rows": null,
      "grid_column": null,
      "grid_gap": null,
      "grid_row": null,
      "grid_template_areas": null,
      "grid_template_columns": null,
      "grid_template_rows": null,
      "height": null,
      "justify_content": null,
      "justify_items": null,
      "left": null,
      "margin": null,
      "max_height": null,
      "max_width": null,
      "min_height": null,
      "min_width": null,
      "object_fit": null,
      "object_position": null,
      "order": null,
      "overflow": null,
      "overflow_x": null,
      "overflow_y": null,
      "padding": null,
      "right": null,
      "top": null,
      "visibility": null,
      "width": null
     }
    },
    "5c106e648d9548918b66795f37faf51c": {
     "model_module": "@jupyter-widgets/controls",
     "model_name": "ProgressStyleModel",
     "state": {
      "_model_module": "@jupyter-widgets/controls",
      "_model_module_version": "1.5.0",
      "_model_name": "ProgressStyleModel",
      "_view_count": null,
      "_view_module": "@jupyter-widgets/base",
      "_view_module_version": "1.2.0",
      "_view_name": "StyleView",
      "bar_color": null,
      "description_width": "initial"
     }
    },
    "5e91a8698c0f464dae2297f0a1921d5b": {
     "model_module": "@jupyter-widgets/controls",
     "model_name": "DescriptionStyleModel",
     "state": {
      "_model_module": "@jupyter-widgets/controls",
      "_model_module_version": "1.5.0",
      "_model_name": "DescriptionStyleModel",
      "_view_count": null,
      "_view_module": "@jupyter-widgets/base",
      "_view_module_version": "1.2.0",
      "_view_name": "StyleView",
      "description_width": ""
     }
    },
    "5eb4f9d87a82487f8a7703012964ca15": {
     "model_module": "@jupyter-widgets/base",
     "model_name": "LayoutModel",
     "state": {
      "_model_module": "@jupyter-widgets/base",
      "_model_module_version": "1.2.0",
      "_model_name": "LayoutModel",
      "_view_count": null,
      "_view_module": "@jupyter-widgets/base",
      "_view_module_version": "1.2.0",
      "_view_name": "LayoutView",
      "align_content": null,
      "align_items": null,
      "align_self": null,
      "border": null,
      "bottom": null,
      "display": null,
      "flex": null,
      "flex_flow": null,
      "grid_area": null,
      "grid_auto_columns": null,
      "grid_auto_flow": null,
      "grid_auto_rows": null,
      "grid_column": null,
      "grid_gap": null,
      "grid_row": null,
      "grid_template_areas": null,
      "grid_template_columns": null,
      "grid_template_rows": null,
      "height": null,
      "justify_content": null,
      "justify_items": null,
      "left": null,
      "margin": null,
      "max_height": null,
      "max_width": null,
      "min_height": null,
      "min_width": null,
      "object_fit": null,
      "object_position": null,
      "order": null,
      "overflow": null,
      "overflow_x": null,
      "overflow_y": null,
      "padding": null,
      "right": null,
      "top": null,
      "visibility": null,
      "width": null
     }
    },
    "675cff5a6a91458f91dda7c0b44a5320": {
     "model_module": "@jupyter-widgets/controls",
     "model_name": "HTMLModel",
     "state": {
      "_dom_classes": [],
      "_model_module": "@jupyter-widgets/controls",
      "_model_module_version": "1.5.0",
      "_model_name": "HTMLModel",
      "_view_count": null,
      "_view_module": "@jupyter-widgets/controls",
      "_view_module_version": "1.5.0",
      "_view_name": "HTMLView",
      "description": "",
      "description_tooltip": null,
      "layout": "IPY_MODEL_d4ef24f916654c2d964c22e1ebba768f",
      "placeholder": "​",
      "style": "IPY_MODEL_d201d72cd7ab4ea5bb1a377938aa98a6",
      "value": " 433/433 [00:11&lt;00:00, 39.0B/s]"
     }
    },
    "68002045bd124de0948e860348e93c4d": {
     "model_module": "@jupyter-widgets/controls",
     "model_name": "DescriptionStyleModel",
     "state": {
      "_model_module": "@jupyter-widgets/controls",
      "_model_module_version": "1.5.0",
      "_model_name": "DescriptionStyleModel",
      "_view_count": null,
      "_view_module": "@jupyter-widgets/base",
      "_view_module_version": "1.2.0",
      "_view_name": "StyleView",
      "description_width": ""
     }
    },
    "6b5ba4b1e56c432ba5fd420c06fbc1b8": {
     "model_module": "@jupyter-widgets/controls",
     "model_name": "ProgressStyleModel",
     "state": {
      "_model_module": "@jupyter-widgets/controls",
      "_model_module_version": "1.5.0",
      "_model_name": "ProgressStyleModel",
      "_view_count": null,
      "_view_module": "@jupyter-widgets/base",
      "_view_module_version": "1.2.0",
      "_view_name": "StyleView",
      "bar_color": null,
      "description_width": "initial"
     }
    },
    "6f86f41d575b4f4cadd2ba24314f37eb": {
     "model_module": "@jupyter-widgets/controls",
     "model_name": "FloatProgressModel",
     "state": {
      "_dom_classes": [],
      "_model_module": "@jupyter-widgets/controls",
      "_model_module_version": "1.5.0",
      "_model_name": "FloatProgressModel",
      "_view_count": null,
      "_view_module": "@jupyter-widgets/controls",
      "_view_module_version": "1.5.0",
      "_view_name": "ProgressView",
      "bar_style": "success",
      "description": "Downloading: 100%",
      "description_tooltip": null,
      "layout": "IPY_MODEL_12b3a171fcd440ce82b5846151a38bd2",
      "max": 440473133,
      "min": 0,
      "orientation": "horizontal",
      "style": "IPY_MODEL_8420947dff0f4279b949d890d5164d93",
      "value": 440473133
     }
    },
    "6fa77b5317c04245b8bae02202769c33": {
     "model_module": "@jupyter-widgets/controls",
     "model_name": "FloatProgressModel",
     "state": {
      "_dom_classes": [],
      "_model_module": "@jupyter-widgets/controls",
      "_model_module_version": "1.5.0",
      "_model_name": "FloatProgressModel",
      "_view_count": null,
      "_view_module": "@jupyter-widgets/controls",
      "_view_module_version": "1.5.0",
      "_view_name": "ProgressView",
      "bar_style": "success",
      "description": "Downloading: 100%",
      "description_tooltip": null,
      "layout": "IPY_MODEL_9a45d36361a0487ab4d8f2288f8dc985",
      "max": 28,
      "min": 0,
      "orientation": "horizontal",
      "style": "IPY_MODEL_2da3505b07f14839839fe50ea84b1810",
      "value": 28
     }
    },
    "75bac20cb5d84ffc8ffccdfa76c677f6": {
     "model_module": "@jupyter-widgets/controls",
     "model_name": "DescriptionStyleModel",
     "state": {
      "_model_module": "@jupyter-widgets/controls",
      "_model_module_version": "1.5.0",
      "_model_name": "DescriptionStyleModel",
      "_view_count": null,
      "_view_module": "@jupyter-widgets/base",
      "_view_module_version": "1.2.0",
      "_view_name": "StyleView",
      "description_width": ""
     }
    },
    "76a0354d4f3343b19f553b012635d62d": {
     "model_module": "@jupyter-widgets/controls",
     "model_name": "DescriptionStyleModel",
     "state": {
      "_model_module": "@jupyter-widgets/controls",
      "_model_module_version": "1.5.0",
      "_model_name": "DescriptionStyleModel",
      "_view_count": null,
      "_view_module": "@jupyter-widgets/base",
      "_view_module_version": "1.2.0",
      "_view_name": "StyleView",
      "description_width": ""
     }
    },
    "7c9be241ad514ffd93b1ec269ff99f9f": {
     "model_module": "@jupyter-widgets/controls",
     "model_name": "HBoxModel",
     "state": {
      "_dom_classes": [],
      "_model_module": "@jupyter-widgets/controls",
      "_model_module_version": "1.5.0",
      "_model_name": "HBoxModel",
      "_view_count": null,
      "_view_module": "@jupyter-widgets/controls",
      "_view_module_version": "1.5.0",
      "_view_name": "HBoxView",
      "box_style": "",
      "children": [
       "IPY_MODEL_aae0a346757649e4bdbab6216e821d3f",
       "IPY_MODEL_968e22f7b2fe49e89f83fd4376e5df3e"
      ],
      "layout": "IPY_MODEL_1b0bdc50f146417b990cfc39fb656144"
     }
    },
    "7d1172e21758490d917f87bc08476342": {
     "model_module": "@jupyter-widgets/base",
     "model_name": "LayoutModel",
     "state": {
      "_model_module": "@jupyter-widgets/base",
      "_model_module_version": "1.2.0",
      "_model_name": "LayoutModel",
      "_view_count": null,
      "_view_module": "@jupyter-widgets/base",
      "_view_module_version": "1.2.0",
      "_view_name": "LayoutView",
      "align_content": null,
      "align_items": null,
      "align_self": null,
      "border": null,
      "bottom": null,
      "display": null,
      "flex": null,
      "flex_flow": null,
      "grid_area": null,
      "grid_auto_columns": null,
      "grid_auto_flow": null,
      "grid_auto_rows": null,
      "grid_column": null,
      "grid_gap": null,
      "grid_row": null,
      "grid_template_areas": null,
      "grid_template_columns": null,
      "grid_template_rows": null,
      "height": null,
      "justify_content": null,
      "justify_items": null,
      "left": null,
      "margin": null,
      "max_height": null,
      "max_width": null,
      "min_height": null,
      "min_width": null,
      "object_fit": null,
      "object_position": null,
      "order": null,
      "overflow": null,
      "overflow_x": null,
      "overflow_y": null,
      "padding": null,
      "right": null,
      "top": null,
      "visibility": null,
      "width": null
     }
    },
    "8420947dff0f4279b949d890d5164d93": {
     "model_module": "@jupyter-widgets/controls",
     "model_name": "ProgressStyleModel",
     "state": {
      "_model_module": "@jupyter-widgets/controls",
      "_model_module_version": "1.5.0",
      "_model_name": "ProgressStyleModel",
      "_view_count": null,
      "_view_module": "@jupyter-widgets/base",
      "_view_module_version": "1.2.0",
      "_view_name": "StyleView",
      "bar_color": null,
      "description_width": "initial"
     }
    },
    "847142714f494c4f9b2ae628bf5ac662": {
     "model_module": "@jupyter-widgets/controls",
     "model_name": "FloatProgressModel",
     "state": {
      "_dom_classes": [],
      "_model_module": "@jupyter-widgets/controls",
      "_model_module_version": "1.5.0",
      "_model_name": "FloatProgressModel",
      "_view_count": null,
      "_view_module": "@jupyter-widgets/controls",
      "_view_module_version": "1.5.0",
      "_view_name": "ProgressView",
      "bar_style": "success",
      "description": "Downloading: 100%",
      "description_tooltip": null,
      "layout": "IPY_MODEL_e389fc35a84e4f15bbc1ed2361edd5b4",
      "max": 433,
      "min": 0,
      "orientation": "horizontal",
      "style": "IPY_MODEL_aa56dd75ea7444f3affef535c0b5eee7",
      "value": 433
     }
    },
    "8748e7a7236a48d7a122aa34891b2f2f": {
     "model_module": "@jupyter-widgets/controls",
     "model_name": "HTMLModel",
     "state": {
      "_dom_classes": [],
      "_model_module": "@jupyter-widgets/controls",
      "_model_module_version": "1.5.0",
      "_model_name": "HTMLModel",
      "_view_count": null,
      "_view_module": "@jupyter-widgets/controls",
      "_view_module_version": "1.5.0",
      "_view_name": "HTMLView",
      "description": "",
      "description_tooltip": null,
      "layout": "IPY_MODEL_5b6a9f9d1fd146d693028ac8ccbdef9a",
      "placeholder": "​",
      "style": "IPY_MODEL_68002045bd124de0948e860348e93c4d",
      "value": " 466k/466k [03:29&lt;00:00, 2.22kB/s]"
     }
    },
    "90d30b40636340f4b2ab8aa4ad8c627b": {
     "model_module": "@jupyter-widgets/base",
     "model_name": "LayoutModel",
     "state": {
      "_model_module": "@jupyter-widgets/base",
      "_model_module_version": "1.2.0",
      "_model_name": "LayoutModel",
      "_view_count": null,
      "_view_module": "@jupyter-widgets/base",
      "_view_module_version": "1.2.0",
      "_view_name": "LayoutView",
      "align_content": null,
      "align_items": null,
      "align_self": null,
      "border": null,
      "bottom": null,
      "display": null,
      "flex": null,
      "flex_flow": null,
      "grid_area": null,
      "grid_auto_columns": null,
      "grid_auto_flow": null,
      "grid_auto_rows": null,
      "grid_column": null,
      "grid_gap": null,
      "grid_row": null,
      "grid_template_areas": null,
      "grid_template_columns": null,
      "grid_template_rows": null,
      "height": null,
      "justify_content": null,
      "justify_items": null,
      "left": null,
      "margin": null,
      "max_height": null,
      "max_width": null,
      "min_height": null,
      "min_width": null,
      "object_fit": null,
      "object_position": null,
      "order": null,
      "overflow": null,
      "overflow_x": null,
      "overflow_y": null,
      "padding": null,
      "right": null,
      "top": null,
      "visibility": null,
      "width": null
     }
    },
    "938b98a5f7874abba35c8abcc993a4e0": {
     "model_module": "@jupyter-widgets/base",
     "model_name": "LayoutModel",
     "state": {
      "_model_module": "@jupyter-widgets/base",
      "_model_module_version": "1.2.0",
      "_model_name": "LayoutModel",
      "_view_count": null,
      "_view_module": "@jupyter-widgets/base",
      "_view_module_version": "1.2.0",
      "_view_name": "LayoutView",
      "align_content": null,
      "align_items": null,
      "align_self": null,
      "border": null,
      "bottom": null,
      "display": null,
      "flex": null,
      "flex_flow": null,
      "grid_area": null,
      "grid_auto_columns": null,
      "grid_auto_flow": null,
      "grid_auto_rows": null,
      "grid_column": null,
      "grid_gap": null,
      "grid_row": null,
      "grid_template_areas": null,
      "grid_template_columns": null,
      "grid_template_rows": null,
      "height": null,
      "justify_content": null,
      "justify_items": null,
      "left": null,
      "margin": null,
      "max_height": null,
      "max_width": null,
      "min_height": null,
      "min_width": null,
      "object_fit": null,
      "object_position": null,
      "order": null,
      "overflow": null,
      "overflow_x": null,
      "overflow_y": null,
      "padding": null,
      "right": null,
      "top": null,
      "visibility": null,
      "width": null
     }
    },
    "968e22f7b2fe49e89f83fd4376e5df3e": {
     "model_module": "@jupyter-widgets/controls",
     "model_name": "HTMLModel",
     "state": {
      "_dom_classes": [],
      "_model_module": "@jupyter-widgets/controls",
      "_model_module_version": "1.5.0",
      "_model_name": "HTMLModel",
      "_view_count": null,
      "_view_module": "@jupyter-widgets/controls",
      "_view_module_version": "1.5.0",
      "_view_name": "HTMLView",
      "description": "",
      "description_tooltip": null,
      "layout": "IPY_MODEL_938b98a5f7874abba35c8abcc993a4e0",
      "placeholder": "​",
      "style": "IPY_MODEL_75bac20cb5d84ffc8ffccdfa76c677f6",
      "value": " 630/630 [03:17&lt;00:00, 3.19B/s]"
     }
    },
    "9a45d36361a0487ab4d8f2288f8dc985": {
     "model_module": "@jupyter-widgets/base",
     "model_name": "LayoutModel",
     "state": {
      "_model_module": "@jupyter-widgets/base",
      "_model_module_version": "1.2.0",
      "_model_name": "LayoutModel",
      "_view_count": null,
      "_view_module": "@jupyter-widgets/base",
      "_view_module_version": "1.2.0",
      "_view_name": "LayoutView",
      "align_content": null,
      "align_items": null,
      "align_self": null,
      "border": null,
      "bottom": null,
      "display": null,
      "flex": null,
      "flex_flow": null,
      "grid_area": null,
      "grid_auto_columns": null,
      "grid_auto_flow": null,
      "grid_auto_rows": null,
      "grid_column": null,
      "grid_gap": null,
      "grid_row": null,
      "grid_template_areas": null,
      "grid_template_columns": null,
      "grid_template_rows": null,
      "height": null,
      "justify_content": null,
      "justify_items": null,
      "left": null,
      "margin": null,
      "max_height": null,
      "max_width": null,
      "min_height": null,
      "min_width": null,
      "object_fit": null,
      "object_position": null,
      "order": null,
      "overflow": null,
      "overflow_x": null,
      "overflow_y": null,
      "padding": null,
      "right": null,
      "top": null,
      "visibility": null,
      "width": null
     }
    },
    "a168456c7ac64032aa23eed4418695b2": {
     "model_module": "@jupyter-widgets/controls",
     "model_name": "HTMLModel",
     "state": {
      "_dom_classes": [],
      "_model_module": "@jupyter-widgets/controls",
      "_model_module_version": "1.5.0",
      "_model_name": "HTMLModel",
      "_view_count": null,
      "_view_module": "@jupyter-widgets/controls",
      "_view_module_version": "1.5.0",
      "_view_name": "HTMLView",
      "description": "",
      "description_tooltip": null,
      "layout": "IPY_MODEL_f1a9ab9315554fe18e8a1aacb6f2aa07",
      "placeholder": "​",
      "style": "IPY_MODEL_76a0354d4f3343b19f553b012635d62d",
      "value": " 232k/232k [00:00&lt;00:00, 2.21MB/s]"
     }
    },
    "a24591676ac4423394f43878fb6e8653": {
     "model_module": "@jupyter-widgets/controls",
     "model_name": "HBoxModel",
     "state": {
      "_dom_classes": [],
      "_model_module": "@jupyter-widgets/controls",
      "_model_module_version": "1.5.0",
      "_model_name": "HBoxModel",
      "_view_count": null,
      "_view_module": "@jupyter-widgets/controls",
      "_view_module_version": "1.5.0",
      "_view_name": "HBoxView",
      "box_style": "",
      "children": [
       "IPY_MODEL_6fa77b5317c04245b8bae02202769c33",
       "IPY_MODEL_0e0cde41cd2d40d799c1979c9a4ac4b7"
      ],
      "layout": "IPY_MODEL_da0be7c30a3149cc90dac9cc6481186d"
     }
    },
    "a5ad18892b1c4e8a8442f0293552899e": {
     "model_module": "@jupyter-widgets/controls",
     "model_name": "FloatProgressModel",
     "state": {
      "_dom_classes": [],
      "_model_module": "@jupyter-widgets/controls",
      "_model_module_version": "1.5.0",
      "_model_name": "FloatProgressModel",
      "_view_count": null,
      "_view_module": "@jupyter-widgets/controls",
      "_view_module_version": "1.5.0",
      "_view_name": "ProgressView",
      "bar_style": "success",
      "description": "Downloading: 100%",
      "description_tooltip": null,
      "layout": "IPY_MODEL_e34ccdc7ab4d4749b49887a997702cc2",
      "max": 466062,
      "min": 0,
      "orientation": "horizontal",
      "style": "IPY_MODEL_1b68caed48cd4ee7aa135dd3ee100e51",
      "value": 466062
     }
    },
    "aa56dd75ea7444f3affef535c0b5eee7": {
     "model_module": "@jupyter-widgets/controls",
     "model_name": "ProgressStyleModel",
     "state": {
      "_model_module": "@jupyter-widgets/controls",
      "_model_module_version": "1.5.0",
      "_model_name": "ProgressStyleModel",
      "_view_count": null,
      "_view_module": "@jupyter-widgets/base",
      "_view_module_version": "1.2.0",
      "_view_name": "StyleView",
      "bar_color": null,
      "description_width": "initial"
     }
    },
    "aae0a346757649e4bdbab6216e821d3f": {
     "model_module": "@jupyter-widgets/controls",
     "model_name": "FloatProgressModel",
     "state": {
      "_dom_classes": [],
      "_model_module": "@jupyter-widgets/controls",
      "_model_module_version": "1.5.0",
      "_model_name": "FloatProgressModel",
      "_view_count": null,
      "_view_module": "@jupyter-widgets/controls",
      "_view_module_version": "1.5.0",
      "_view_name": "ProgressView",
      "bar_style": "success",
      "description": "Downloading: 100%",
      "description_tooltip": null,
      "layout": "IPY_MODEL_90d30b40636340f4b2ab8aa4ad8c627b",
      "max": 630,
      "min": 0,
      "orientation": "horizontal",
      "style": "IPY_MODEL_6b5ba4b1e56c432ba5fd420c06fbc1b8",
      "value": 630
     }
    },
    "b9b2e037b3914b28aba39d8ef142b911": {
     "model_module": "@jupyter-widgets/base",
     "model_name": "LayoutModel",
     "state": {
      "_model_module": "@jupyter-widgets/base",
      "_model_module_version": "1.2.0",
      "_model_name": "LayoutModel",
      "_view_count": null,
      "_view_module": "@jupyter-widgets/base",
      "_view_module_version": "1.2.0",
      "_view_name": "LayoutView",
      "align_content": null,
      "align_items": null,
      "align_self": null,
      "border": null,
      "bottom": null,
      "display": null,
      "flex": null,
      "flex_flow": null,
      "grid_area": null,
      "grid_auto_columns": null,
      "grid_auto_flow": null,
      "grid_auto_rows": null,
      "grid_column": null,
      "grid_gap": null,
      "grid_row": null,
      "grid_template_areas": null,
      "grid_template_columns": null,
      "grid_template_rows": null,
      "height": null,
      "justify_content": null,
      "justify_items": null,
      "left": null,
      "margin": null,
      "max_height": null,
      "max_width": null,
      "min_height": null,
      "min_width": null,
      "object_fit": null,
      "object_position": null,
      "order": null,
      "overflow": null,
      "overflow_x": null,
      "overflow_y": null,
      "padding": null,
      "right": null,
      "top": null,
      "visibility": null,
      "width": null
     }
    },
    "bc08fb3d23e7441aaa2130012102ec55": {
     "model_module": "@jupyter-widgets/controls",
     "model_name": "HTMLModel",
     "state": {
      "_dom_classes": [],
      "_model_module": "@jupyter-widgets/controls",
      "_model_module_version": "1.5.0",
      "_model_name": "HTMLModel",
      "_view_count": null,
      "_view_module": "@jupyter-widgets/controls",
      "_view_module_version": "1.5.0",
      "_view_name": "HTMLView",
      "description": "",
      "description_tooltip": null,
      "layout": "IPY_MODEL_4ca2d973d77d422ebf1bf9e1c4ec1f6c",
      "placeholder": "​",
      "style": "IPY_MODEL_e03b81a500104c55a1d3dc8188bc15a1",
      "value": " 440M/440M [00:10&lt;00:00, 40.0MB/s]"
     }
    },
    "c110ee126d7646ab98f1b724041f4424": {
     "model_module": "@jupyter-widgets/base",
     "model_name": "LayoutModel",
     "state": {
      "_model_module": "@jupyter-widgets/base",
      "_model_module_version": "1.2.0",
      "_model_name": "LayoutModel",
      "_view_count": null,
      "_view_module": "@jupyter-widgets/base",
      "_view_module_version": "1.2.0",
      "_view_name": "LayoutView",
      "align_content": null,
      "align_items": null,
      "align_self": null,
      "border": null,
      "bottom": null,
      "display": null,
      "flex": null,
      "flex_flow": null,
      "grid_area": null,
      "grid_auto_columns": null,
      "grid_auto_flow": null,
      "grid_auto_rows": null,
      "grid_column": null,
      "grid_gap": null,
      "grid_row": null,
      "grid_template_areas": null,
      "grid_template_columns": null,
      "grid_template_rows": null,
      "height": null,
      "justify_content": null,
      "justify_items": null,
      "left": null,
      "margin": null,
      "max_height": null,
      "max_width": null,
      "min_height": null,
      "min_width": null,
      "object_fit": null,
      "object_position": null,
      "order": null,
      "overflow": null,
      "overflow_x": null,
      "overflow_y": null,
      "padding": null,
      "right": null,
      "top": null,
      "visibility": null,
      "width": null
     }
    },
    "c560f008363d4424b03f3daeb49c25c9": {
     "model_module": "@jupyter-widgets/controls",
     "model_name": "HBoxModel",
     "state": {
      "_dom_classes": [],
      "_model_module": "@jupyter-widgets/controls",
      "_model_module_version": "1.5.0",
      "_model_name": "HBoxModel",
      "_view_count": null,
      "_view_module": "@jupyter-widgets/controls",
      "_view_module_version": "1.5.0",
      "_view_name": "HBoxView",
      "box_style": "",
      "children": [
       "IPY_MODEL_847142714f494c4f9b2ae628bf5ac662",
       "IPY_MODEL_675cff5a6a91458f91dda7c0b44a5320"
      ],
      "layout": "IPY_MODEL_b9b2e037b3914b28aba39d8ef142b911"
     }
    },
    "c70bc018eba64b76804d0dbca39a187a": {
     "model_module": "@jupyter-widgets/controls",
     "model_name": "HTMLModel",
     "state": {
      "_dom_classes": [],
      "_model_module": "@jupyter-widgets/controls",
      "_model_module_version": "1.5.0",
      "_model_name": "HTMLModel",
      "_view_count": null,
      "_view_module": "@jupyter-widgets/controls",
      "_view_module_version": "1.5.0",
      "_view_name": "HTMLView",
      "description": "",
      "description_tooltip": null,
      "layout": "IPY_MODEL_11b20f918a564ae5959fdfdd7f95499f",
      "placeholder": "​",
      "style": "IPY_MODEL_5e91a8698c0f464dae2297f0a1921d5b",
      "value": " 438M/438M [00:09&lt;00:00, 46.1MB/s]"
     }
    },
    "c9591a75647e48108e1fce2c3047bcde": {
     "model_module": "@jupyter-widgets/controls",
     "model_name": "HBoxModel",
     "state": {
      "_dom_classes": [],
      "_model_module": "@jupyter-widgets/controls",
      "_model_module_version": "1.5.0",
      "_model_name": "HBoxModel",
      "_view_count": null,
      "_view_module": "@jupyter-widgets/controls",
      "_view_module_version": "1.5.0",
      "_view_name": "HBoxView",
      "box_style": "",
      "children": [
       "IPY_MODEL_e42a0fab56124e4cb91a346d33a3e4c6",
       "IPY_MODEL_c70bc018eba64b76804d0dbca39a187a"
      ],
      "layout": "IPY_MODEL_c110ee126d7646ab98f1b724041f4424"
     }
    },
    "d201d72cd7ab4ea5bb1a377938aa98a6": {
     "model_module": "@jupyter-widgets/controls",
     "model_name": "DescriptionStyleModel",
     "state": {
      "_model_module": "@jupyter-widgets/controls",
      "_model_module_version": "1.5.0",
      "_model_name": "DescriptionStyleModel",
      "_view_count": null,
      "_view_module": "@jupyter-widgets/base",
      "_view_module_version": "1.2.0",
      "_view_name": "StyleView",
      "description_width": ""
     }
    },
    "d370821b4dca4922aa9141dbdea234bd": {
     "model_module": "@jupyter-widgets/base",
     "model_name": "LayoutModel",
     "state": {
      "_model_module": "@jupyter-widgets/base",
      "_model_module_version": "1.2.0",
      "_model_name": "LayoutModel",
      "_view_count": null,
      "_view_module": "@jupyter-widgets/base",
      "_view_module_version": "1.2.0",
      "_view_name": "LayoutView",
      "align_content": null,
      "align_items": null,
      "align_self": null,
      "border": null,
      "bottom": null,
      "display": null,
      "flex": null,
      "flex_flow": null,
      "grid_area": null,
      "grid_auto_columns": null,
      "grid_auto_flow": null,
      "grid_auto_rows": null,
      "grid_column": null,
      "grid_gap": null,
      "grid_row": null,
      "grid_template_areas": null,
      "grid_template_columns": null,
      "grid_template_rows": null,
      "height": null,
      "justify_content": null,
      "justify_items": null,
      "left": null,
      "margin": null,
      "max_height": null,
      "max_width": null,
      "min_height": null,
      "min_width": null,
      "object_fit": null,
      "object_position": null,
      "order": null,
      "overflow": null,
      "overflow_x": null,
      "overflow_y": null,
      "padding": null,
      "right": null,
      "top": null,
      "visibility": null,
      "width": null
     }
    },
    "d4ef24f916654c2d964c22e1ebba768f": {
     "model_module": "@jupyter-widgets/base",
     "model_name": "LayoutModel",
     "state": {
      "_model_module": "@jupyter-widgets/base",
      "_model_module_version": "1.2.0",
      "_model_name": "LayoutModel",
      "_view_count": null,
      "_view_module": "@jupyter-widgets/base",
      "_view_module_version": "1.2.0",
      "_view_name": "LayoutView",
      "align_content": null,
      "align_items": null,
      "align_self": null,
      "border": null,
      "bottom": null,
      "display": null,
      "flex": null,
      "flex_flow": null,
      "grid_area": null,
      "grid_auto_columns": null,
      "grid_auto_flow": null,
      "grid_auto_rows": null,
      "grid_column": null,
      "grid_gap": null,
      "grid_row": null,
      "grid_template_areas": null,
      "grid_template_columns": null,
      "grid_template_rows": null,
      "height": null,
      "justify_content": null,
      "justify_items": null,
      "left": null,
      "margin": null,
      "max_height": null,
      "max_width": null,
      "min_height": null,
      "min_width": null,
      "object_fit": null,
      "object_position": null,
      "order": null,
      "overflow": null,
      "overflow_x": null,
      "overflow_y": null,
      "padding": null,
      "right": null,
      "top": null,
      "visibility": null,
      "width": null
     }
    },
    "da0be7c30a3149cc90dac9cc6481186d": {
     "model_module": "@jupyter-widgets/base",
     "model_name": "LayoutModel",
     "state": {
      "_model_module": "@jupyter-widgets/base",
      "_model_module_version": "1.2.0",
      "_model_name": "LayoutModel",
      "_view_count": null,
      "_view_module": "@jupyter-widgets/base",
      "_view_module_version": "1.2.0",
      "_view_name": "LayoutView",
      "align_content": null,
      "align_items": null,
      "align_self": null,
      "border": null,
      "bottom": null,
      "display": null,
      "flex": null,
      "flex_flow": null,
      "grid_area": null,
      "grid_auto_columns": null,
      "grid_auto_flow": null,
      "grid_auto_rows": null,
      "grid_column": null,
      "grid_gap": null,
      "grid_row": null,
      "grid_template_areas": null,
      "grid_template_columns": null,
      "grid_template_rows": null,
      "height": null,
      "justify_content": null,
      "justify_items": null,
      "left": null,
      "margin": null,
      "max_height": null,
      "max_width": null,
      "min_height": null,
      "min_width": null,
      "object_fit": null,
      "object_position": null,
      "order": null,
      "overflow": null,
      "overflow_x": null,
      "overflow_y": null,
      "padding": null,
      "right": null,
      "top": null,
      "visibility": null,
      "width": null
     }
    },
    "e03b81a500104c55a1d3dc8188bc15a1": {
     "model_module": "@jupyter-widgets/controls",
     "model_name": "DescriptionStyleModel",
     "state": {
      "_model_module": "@jupyter-widgets/controls",
      "_model_module_version": "1.5.0",
      "_model_name": "DescriptionStyleModel",
      "_view_count": null,
      "_view_module": "@jupyter-widgets/base",
      "_view_module_version": "1.2.0",
      "_view_name": "StyleView",
      "description_width": ""
     }
    },
    "e2a0be2c3d924e6e9001ee72fb9fb36c": {
     "model_module": "@jupyter-widgets/base",
     "model_name": "LayoutModel",
     "state": {
      "_model_module": "@jupyter-widgets/base",
      "_model_module_version": "1.2.0",
      "_model_name": "LayoutModel",
      "_view_count": null,
      "_view_module": "@jupyter-widgets/base",
      "_view_module_version": "1.2.0",
      "_view_name": "LayoutView",
      "align_content": null,
      "align_items": null,
      "align_self": null,
      "border": null,
      "bottom": null,
      "display": null,
      "flex": null,
      "flex_flow": null,
      "grid_area": null,
      "grid_auto_columns": null,
      "grid_auto_flow": null,
      "grid_auto_rows": null,
      "grid_column": null,
      "grid_gap": null,
      "grid_row": null,
      "grid_template_areas": null,
      "grid_template_columns": null,
      "grid_template_rows": null,
      "height": null,
      "justify_content": null,
      "justify_items": null,
      "left": null,
      "margin": null,
      "max_height": null,
      "max_width": null,
      "min_height": null,
      "min_width": null,
      "object_fit": null,
      "object_position": null,
      "order": null,
      "overflow": null,
      "overflow_x": null,
      "overflow_y": null,
      "padding": null,
      "right": null,
      "top": null,
      "visibility": null,
      "width": null
     }
    },
    "e34ccdc7ab4d4749b49887a997702cc2": {
     "model_module": "@jupyter-widgets/base",
     "model_name": "LayoutModel",
     "state": {
      "_model_module": "@jupyter-widgets/base",
      "_model_module_version": "1.2.0",
      "_model_name": "LayoutModel",
      "_view_count": null,
      "_view_module": "@jupyter-widgets/base",
      "_view_module_version": "1.2.0",
      "_view_name": "LayoutView",
      "align_content": null,
      "align_items": null,
      "align_self": null,
      "border": null,
      "bottom": null,
      "display": null,
      "flex": null,
      "flex_flow": null,
      "grid_area": null,
      "grid_auto_columns": null,
      "grid_auto_flow": null,
      "grid_auto_rows": null,
      "grid_column": null,
      "grid_gap": null,
      "grid_row": null,
      "grid_template_areas": null,
      "grid_template_columns": null,
      "grid_template_rows": null,
      "height": null,
      "justify_content": null,
      "justify_items": null,
      "left": null,
      "margin": null,
      "max_height": null,
      "max_width": null,
      "min_height": null,
      "min_width": null,
      "object_fit": null,
      "object_position": null,
      "order": null,
      "overflow": null,
      "overflow_x": null,
      "overflow_y": null,
      "padding": null,
      "right": null,
      "top": null,
      "visibility": null,
      "width": null
     }
    },
    "e389fc35a84e4f15bbc1ed2361edd5b4": {
     "model_module": "@jupyter-widgets/base",
     "model_name": "LayoutModel",
     "state": {
      "_model_module": "@jupyter-widgets/base",
      "_model_module_version": "1.2.0",
      "_model_name": "LayoutModel",
      "_view_count": null,
      "_view_module": "@jupyter-widgets/base",
      "_view_module_version": "1.2.0",
      "_view_name": "LayoutView",
      "align_content": null,
      "align_items": null,
      "align_self": null,
      "border": null,
      "bottom": null,
      "display": null,
      "flex": null,
      "flex_flow": null,
      "grid_area": null,
      "grid_auto_columns": null,
      "grid_auto_flow": null,
      "grid_auto_rows": null,
      "grid_column": null,
      "grid_gap": null,
      "grid_row": null,
      "grid_template_areas": null,
      "grid_template_columns": null,
      "grid_template_rows": null,
      "height": null,
      "justify_content": null,
      "justify_items": null,
      "left": null,
      "margin": null,
      "max_height": null,
      "max_width": null,
      "min_height": null,
      "min_width": null,
      "object_fit": null,
      "object_position": null,
      "order": null,
      "overflow": null,
      "overflow_x": null,
      "overflow_y": null,
      "padding": null,
      "right": null,
      "top": null,
      "visibility": null,
      "width": null
     }
    },
    "e42a0fab56124e4cb91a346d33a3e4c6": {
     "model_module": "@jupyter-widgets/controls",
     "model_name": "FloatProgressModel",
     "state": {
      "_dom_classes": [],
      "_model_module": "@jupyter-widgets/controls",
      "_model_module_version": "1.5.0",
      "_model_name": "FloatProgressModel",
      "_view_count": null,
      "_view_module": "@jupyter-widgets/controls",
      "_view_module_version": "1.5.0",
      "_view_name": "ProgressView",
      "bar_style": "success",
      "description": "Downloading: 100%",
      "description_tooltip": null,
      "layout": "IPY_MODEL_e2a0be2c3d924e6e9001ee72fb9fb36c",
      "max": 437986855,
      "min": 0,
      "orientation": "horizontal",
      "style": "IPY_MODEL_5c106e648d9548918b66795f37faf51c",
      "value": 437986855
     }
    },
    "e6954fc13923408a8f2a729d7e820416": {
     "model_module": "@jupyter-widgets/controls",
     "model_name": "ProgressStyleModel",
     "state": {
      "_model_module": "@jupyter-widgets/controls",
      "_model_module_version": "1.5.0",
      "_model_name": "ProgressStyleModel",
      "_view_count": null,
      "_view_module": "@jupyter-widgets/base",
      "_view_module_version": "1.2.0",
      "_view_name": "StyleView",
      "bar_color": null,
      "description_width": "initial"
     }
    },
    "f1a9ab9315554fe18e8a1aacb6f2aa07": {
     "model_module": "@jupyter-widgets/base",
     "model_name": "LayoutModel",
     "state": {
      "_model_module": "@jupyter-widgets/base",
      "_model_module_version": "1.2.0",
      "_model_name": "LayoutModel",
      "_view_count": null,
      "_view_module": "@jupyter-widgets/base",
      "_view_module_version": "1.2.0",
      "_view_name": "LayoutView",
      "align_content": null,
      "align_items": null,
      "align_self": null,
      "border": null,
      "bottom": null,
      "display": null,
      "flex": null,
      "flex_flow": null,
      "grid_area": null,
      "grid_auto_columns": null,
      "grid_auto_flow": null,
      "grid_auto_rows": null,
      "grid_column": null,
      "grid_gap": null,
      "grid_row": null,
      "grid_template_areas": null,
      "grid_template_columns": null,
      "grid_template_rows": null,
      "height": null,
      "justify_content": null,
      "justify_items": null,
      "left": null,
      "margin": null,
      "max_height": null,
      "max_width": null,
      "min_height": null,
      "min_width": null,
      "object_fit": null,
      "object_position": null,
      "order": null,
      "overflow": null,
      "overflow_x": null,
      "overflow_y": null,
      "padding": null,
      "right": null,
      "top": null,
      "visibility": null,
      "width": null
     }
    }
   }
  }
 },
 "nbformat": 4,
 "nbformat_minor": 1
}
